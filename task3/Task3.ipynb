{
 "cells": [
  {
   "cell_type": "markdown",
   "metadata": {},
   "source": [
    "# 2 Subfind Catalogues"
   ]
  },
  {
   "cell_type": "markdown",
   "metadata": {},
   "source": [
    "### 2.1  \n",
    "Using the function Subfind of InspectorGadget, compute the halo mass function and\n",
    "the stellar mass function and establish the maximum and minimum halo masses that\n",
    "are resolved in the simulation."
   ]
  },
  {
   "cell_type": "code",
   "execution_count": 18,
   "metadata": {},
   "outputs": [],
   "source": [
    "#librerías\n",
    "import numpy as np\n",
    "import gadget \n",
    "import matplotlib.pyplot as plt\n"
   ]
  },
  {
   "cell_type": "code",
   "execution_count": 3,
   "metadata": {
    "collapsed": true
   },
   "outputs": [],
   "source": [
    "\n",
    "sub=gadget.Subfind(\"Data/groups_015/fof_subhalo_tab_015.0.hdf5\")"
   ]
  },
  {
   "cell_type": "code",
   "execution_count": 37,
   "metadata": {},
   "outputs": [
    {
     "name": "stdout",
     "output_type": "stream",
     "text": [
      "[[  5.04598572e+02   4.29304492e+03   0.00000000e+00   0.00000000e+00\n",
      "    2.58970222e+01   3.90205309e-02]\n",
      " [  7.33706504e-02   4.00006790e+01   0.00000000e+00   0.00000000e+00\n",
      "    1.60936928e+01   3.99427831e-01]\n",
      " [  0.00000000e+00   6.33282394e+01   0.00000000e+00   0.00000000e+00\n",
      "    3.86733842e+00   2.18271948e-02]\n",
      " ..., \n",
      " [  0.00000000e+00   1.34569138e-01   0.00000000e+00   0.00000000e+00\n",
      "    0.00000000e+00   0.00000000e+00]\n",
      " [  0.00000000e+00   1.34569138e-01   0.00000000e+00   0.00000000e+00\n",
      "    0.00000000e+00   0.00000000e+00]\n",
      " [  0.00000000e+00   1.34569138e-01   0.00000000e+00   0.00000000e+00\n",
      "    0.00000000e+00   0.00000000e+00]]\n"
     ]
    },
    {
     "ename": "NameError",
     "evalue": "name 'Mass_sin_primer_dato' is not defined",
     "output_type": "error",
     "traceback": [
      "\u001b[0;31m---------------------------------------------------------------------------\u001b[0m",
      "\u001b[0;31mNameError\u001b[0m                                 Traceback (most recent call last)",
      "\u001b[0;32m<ipython-input-37-dd63d502c585>\u001b[0m in \u001b[0;36m<module>\u001b[0;34m()\u001b[0m\n\u001b[1;32m     11\u001b[0m \u001b[0;34m\u001b[0m\u001b[0m\n\u001b[1;32m     12\u001b[0m         \u001b[0mcontador\u001b[0m\u001b[0;34m.\u001b[0m\u001b[0mappend\u001b[0m\u001b[0;34m(\u001b[0m\u001b[0mi\u001b[0m\u001b[0;34m)\u001b[0m\u001b[0;34m\u001b[0m\u001b[0m\n\u001b[0;32m---> 13\u001b[0;31m         \u001b[0mMass_sin_primer_dato\u001b[0m\u001b[0;34m.\u001b[0m\u001b[0mappen\u001b[0m\u001b[0;34m\u001b[0m\u001b[0m\n\u001b[0m\u001b[1;32m     14\u001b[0m \u001b[0;34m\u001b[0m\u001b[0m\n\u001b[1;32m     15\u001b[0m \u001b[0;34m\u001b[0m\u001b[0m\n",
      "\u001b[0;31mNameError\u001b[0m: name 'Mass_sin_primer_dato' is not defined"
     ]
    }
   ],
   "source": [
    "#print(sub)\n",
    "\n",
    "#sub.subhalo.SubhaloCM\n",
    "#print(sub.subhalo.SubhaloParent)\n",
    "print(sub.subhalo.SubhaloMassType)\n",
    "Mass_halo=sub.subhalo.SubhaloMass\n",
    "len(Mass_halo)\n",
    "contador=[]\n",
    "#print(Mass_halo)\n",
    "for i in range(len(Mass_halo)):\n",
    "        \n",
    "        contador.append(i)\n",
    "        #Mass_sin_primer_dato.appen    \n",
    "       \n",
    "    \n",
    "print(Mass_halo)\n",
    "#plt.hist(Mass_halo, bins='auto')\n",
    "plt.plot(contador, Mass_halo)\n",
    "plt.show()\n"
   ]
  },
  {
   "cell_type": "code",
   "execution_count": 15,
   "metadata": {
    "collapsed": true
   },
   "outputs": [],
   "source": []
  },
  {
   "cell_type": "code",
   "execution_count": null,
   "metadata": {
    "collapsed": true
   },
   "outputs": [],
   "source": []
  }
 ],
 "metadata": {
  "kernelspec": {
   "display_name": "Python 3",
   "language": "python",
   "name": "python3"
  },
  "language_info": {
   "codemirror_mode": {
    "name": "ipython",
    "version": 3
   },
   "file_extension": ".py",
   "mimetype": "text/x-python",
   "name": "python",
   "nbconvert_exporter": "python",
   "pygments_lexer": "ipython3",
   "version": "3.6.1"
  }
 },
 "nbformat": 4,
 "nbformat_minor": 2
}
