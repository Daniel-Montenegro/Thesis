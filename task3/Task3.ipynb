{
 "cells": [
  {
   "cell_type": "markdown",
   "metadata": {},
   "source": [
    "# 2 Subfind Catalogues"
   ]
  },
  {
   "cell_type": "markdown",
   "metadata": {},
   "source": [
    "### 2.1  \n",
    "Using the function Subfind of InspectorGadget, compute the halo mass function and\n",
    "the stellar mass function and establish the maximum and minimum halo masses that\n",
    "are resolved in the simulation."
   ]
  },
  {
   "cell_type": "code",
   "execution_count": 1,
   "metadata": {},
   "outputs": [
    {
     "name": "stdout",
     "output_type": "stream",
     "text": [
      "Populating the interactive namespace from numpy and matplotlib\n"
     ]
    },
    {
     "name": "stderr",
     "output_type": "stream",
     "text": [
      "/home/daniel/.local/lib/python3.6/site-packages/gadget-0.1-py3.6-linux-x86_64.egg/gadget/const.py:20: UserWarning: Could not setup constants\n",
      "  warnings.warn(\"Could not setup constants\")\n"
     ]
    }
   ],
   "source": [
    "#librerías\n",
    "import numpy as np\n",
    "from scipy.optimize import curve_fit\n",
    "from scipy import stats\n",
    "import matplotlib.pyplot as plt\n",
    "import gadget \n",
    "\n",
    "%pylab inline\n"
   ]
  },
  {
   "cell_type": "code",
   "execution_count": 2,
   "metadata": {
    "collapsed": true
   },
   "outputs": [],
   "source": [
    "\n",
    "sub=gadget.Subfind(\"Data/groups_015/fof_subhalo_tab_015.0.hdf5\")"
   ]
  },
  {
   "cell_type": "code",
   "execution_count": 5,
   "metadata": {
    "scrolled": true
   },
   "outputs": [
    {
     "name": "stdout",
     "output_type": "stream",
     "text": [
      "318\n"
     ]
    }
   ],
   "source": [
    "#print(sub)\n",
    "\n",
    "#sub.subhalo.SubhaloCM\n",
    "#print(sub.subhalo)\n",
    "#print(sub.subhalo.SubhaloMassType)\n",
    "Mass_halo=sub.subhalo.SubhaloMass #masa de los subhalos\n",
    "len(Mass_halo)\n",
    "contador=[]\n",
    "Masa_halo_corregido=[] #Hay datos que dañan la muestra(muy grande), estos datos no se tendran en cuenta en este arreglo\n",
    "#print(Mass_halo)\n",
    "for i in range(1,len(Mass_halo)):\n",
    "        \n",
    "        contador.append(i)\n",
    "        Masa_halo_corregido.append(Mass_halo[i])\n",
    "        #Mass_sin_primer_dato.appen    \n",
    "       \n",
    "    \n",
    "contador=np.array(contador)\n",
    "print(len(Masa_halo_corregido))\n",
    "\n",
    "def funcion(x,A,a,b):\n",
    "    \"\"\" modelo para nuestro dato \"\"\"\n",
    "    \n",
    "    #return stats.poisson.cdf(x,mu)\n",
    "    return A*x**a+b\n",
    "\n",
    "#popt, pcov = curve_fit(funcion, contador, Masa_halo_corregido)\n",
    "\n",
    "#print(popt)  #popt son los valores de A y B por el ajuste  \n",
    "#print(np.sqrt(np.diag(pcov))) ## errores de A y B respectivamente\n",
    "\n"
   ]
  },
  {
   "cell_type": "code",
   "execution_count": 18,
   "metadata": {},
   "outputs": [
    {
     "name": "stdout",
     "output_type": "stream",
     "text": [
      "(array([ 2,  2,  0, 71, 57, 53, 37, 27, 15, 17, 16,  7,  3,  4,  3,  2,  2]), array([-1.51557982, -1.31892914, -1.12227846, -0.92562778, -0.7289771 ,\n",
      "       -0.53232642, -0.33567574, -0.13902506,  0.05762562,  0.2542763 ,\n",
      "        0.45092698,  0.64757766,  0.84422834,  1.04087903,  1.23752971,\n",
      "        1.43418039,  1.63083107,  1.82748175]))\n",
      "17 18\n"
     ]
    },
    {
     "data": {
      "image/png": "[encoded data removed]",
      "text/plain": [
       "<matplotlib.figure.Figure at 0x7f7fe368e860>"
      ]
     },
     "metadata": {},
     "output_type": "display_data"
    }
   ],
   "source": [
    "\n",
    "#plt.plot(contador, np.log(Masa_halo_corregido))\n",
    "#plt.plot(contador,funcion(contador,popt[0],popt[1]))\n",
    "#plt.ylim(-2,10)\n",
    "#plt.xlabel(\"galaxia\")\n",
    "#plt.ylabel(\"log10(Mass_halo)\")\n",
    "#plt.show()\n",
    "#bins=np.sqrt(len(Masa_halo_corregido))\n",
    "\n",
    "histo_Masa_halo=np.histogram(np.log10(Masa_halo_corregido), bins=17)\n",
    "\n",
    "#np.asarray(histo_Masa_halo)\n",
    "\n",
    "print(histo_Masa_halo)\n",
    "histo_Masa_halox=np.delete(histo_Masa_halo[1],-1)\n",
    "print(len(histo_Masa_halo[0]),len(histo_Masa_halo[1]))\n",
    "\n",
    "#popt, pcov = curve_fit(funcion, histo_Masa_halox,histo_Masa_halo[0])\n",
    "\n",
    "x=np.arange(-1.5,2,0.1)\n",
    "plt.hist(np.log10(Masa_halo_corregido), bins=17)\n",
    "#plt.plot(x,funcion(popt[0],popt[1],popt[2]))\n",
    "#plt.plot(histo_Masa_halox,funcion(histo_Masa_halox,*popt))\n",
    "plt.show()"
   ]
  },
  {
   "cell_type": "markdown",
   "metadata": {},
   "source": [
    "## 2.2)"
   ]
  },
  {
   "cell_type": "code",
   "execution_count": 21,
   "metadata": {},
   "outputs": [
    {
     "name": "stdout",
     "output_type": "stream",
     "text": [
      "[[  5.04598572e+02   4.29304492e+03   0.00000000e+00   0.00000000e+00\n",
      "    2.58970222e+01   3.90205309e-02]\n",
      " [  7.33706504e-02   4.00006790e+01   0.00000000e+00   0.00000000e+00\n",
      "    1.60936928e+01   3.99427831e-01]\n",
      " [  0.00000000e+00   6.33282394e+01   0.00000000e+00   0.00000000e+00\n",
      "    3.86733842e+00   2.18271948e-02]\n",
      " ..., \n",
      " [  0.00000000e+00   1.34569138e-01   0.00000000e+00   0.00000000e+00\n",
      "    0.00000000e+00   0.00000000e+00]\n",
      " [  0.00000000e+00   1.34569138e-01   0.00000000e+00   0.00000000e+00\n",
      "    0.00000000e+00   0.00000000e+00]\n",
      " [  0.00000000e+00   1.34569138e-01   0.00000000e+00   0.00000000e+00\n",
      "    0.00000000e+00   0.00000000e+00]]\n"
     ]
    }
   ],
   "source": [
    "##Masa de halos halos\n",
    "Mass_halo\n",
    "\n",
    "print(sub.subhalo.SubhaloMassType[])"
   ]
  },
  {
   "cell_type": "code",
   "execution_count": null,
   "metadata": {
    "collapsed": true
   },
   "outputs": [],
   "source": []
  }
 ],
 "metadata": {
  "kernelspec": {
   "display_name": "Python 3",
   "language": "python",
   "name": "python3"
  },
  "language_info": {
   "codemirror_mode": {
    "name": "ipython",
    "version": 3
   },
   "file_extension": ".py",
   "mimetype": "text/x-python",
   "name": "python",
   "nbconvert_exporter": "python",
   "pygments_lexer": "ipython3",
   "version": "3.6.1"
  }
 },
 "nbformat": 4,
 "nbformat_minor": 2
}
