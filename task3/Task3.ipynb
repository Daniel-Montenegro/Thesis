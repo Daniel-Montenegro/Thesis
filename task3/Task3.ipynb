{
 "cells": [
  {
   "cell_type": "markdown",
   "metadata": {},
   "source": [
    "# 2 Subfind Catalogues"
   ]
  },
  {
   "cell_type": "markdown",
   "metadata": {},
   "source": [
    "### 2.1  \n",
    "Using the function Subfind of InspectorGadget, compute the halo mass function and\n",
    "the stellar mass function and establish the maximum and minimum halo masses that\n",
    "are resolved in the simulation."
   ]
  },
  {
   "cell_type": "code",
   "execution_count": 1,
   "metadata": {},
   "outputs": [
    {
     "name": "stdout",
     "output_type": "stream",
     "text": [
      "Populating the interactive namespace from numpy and matplotlib\n"
     ]
    },
    {
     "name": "stderr",
     "output_type": "stream",
     "text": [
      "/home/daniel/.local/lib/python3.6/site-packages/gadget-0.1-py3.6-linux-x86_64.egg/gadget/const.py:20: UserWarning: Could not setup constants\n",
      "  warnings.warn(\"Could not setup constants\")\n"
     ]
    }
   ],
   "source": [
    "#librerías\n",
    "import numpy as np\n",
    "from scipy.optimize import curve_fit\n",
    "from scipy import stats\n",
    "import matplotlib.pyplot as plt\n",
    "import gadget \n",
    "import arepo\n",
    "\n",
    "%pylab inline\n"
   ]
  },
  {
   "cell_type": "code",
   "execution_count": 2,
   "metadata": {
    "collapsed": true
   },
   "outputs": [],
   "source": [
    "#And the \"*Type\" fields (with 6 entries) are the same numbering as the snapshots (0=gas, 1=dm, 4=stars+wind, 5=bhs).\n",
    "\n",
    "sub=gadget.Subfind(\"Data/groups_015/fof_subhalo_tab_015.0.hdf5\")"
   ]
  },
  {
   "cell_type": "code",
   "execution_count": 3,
   "metadata": {
    "scrolled": true
   },
   "outputs": [
    {
     "name": "stdout",
     "output_type": "stream",
     "text": [
      "318\n"
     ]
    }
   ],
   "source": [
    "#print(sub)\n",
    "\n",
    "#sub.subhalo.SubhaloCM\n",
    "#print(sub.subhalo)\n",
    "#print(sub.subhalo.SubhaloMassType)\n",
    "Mass_halo=sub.subhalo.SubhaloMass*1e10/0.7 #masa de los subhalos [10e10 M_{sol}/h]\n",
    "len(Mass_halo)\n",
    "contador=[]\n",
    "Masa_halo_corregido=[] #Hay datos que dañan la muestra(muy grande), estos datos no se tendran en cuenta en este arreglo\n",
    "#print(Mass_halo)\n",
    "for i in range(1,len(Mass_halo)):\n",
    "        \n",
    "        contador.append(i)\n",
    "        Masa_halo_corregido.append(Mass_halo[i])\n",
    "        #Mass_sin_primer_dato.appen    \n",
    "       \n",
    "    \n",
    "contador=np.array(contador)\n",
    "print(len(Masa_halo_corregido))\n",
    "\n",
    "def funcion(x,A,a,b):\n",
    "    \"\"\" modelo para nuestro dato \"\"\"\n",
    "    \n",
    "    #return stats.poisson.cdf(x,mu)\n",
    "    return A*x**a+b\n",
    "\n",
    "#popt, pcov = curve_fit(funcion, contador, Masa_halo_corregido)\n",
    "\n",
    "#print(popt)  #popt son los valores de A y B por el ajuste  \n",
    "#print(np.sqrt(np.diag(pcov))) ## errores de A y B respectivamente\n",
    "\n"
   ]
  },
  {
   "cell_type": "code",
   "execution_count": 4,
   "metadata": {},
   "outputs": [
    {
     "data": {
      "image/png": "[encoded data removed]",
      "text/plain": [
       "<matplotlib.figure.Figure at 0x7fc95b004748>"
      ]
     },
     "metadata": {},
     "output_type": "display_data"
    }
   ],
   "source": [
    "\n",
    "#plt.plot(contador, np.log(Masa_halo_corregido))\n",
    "#plt.plot(contador,funcion(contador,popt[0],popt[1]))\n",
    "#plt.ylim(-2,10)\n",
    "#plt.xlabel(\"galaxia\")\n",
    "#plt.ylabel(\"log10(Mass_halo)\")\n",
    "#plt.show()\n",
    "#bins=np.sqrt(len(Masa_halo_corregido))\n",
    "\n",
    "histo_Masa_halo=np.histogram(np.log10(Masa_halo_corregido), bins=17)\n",
    "\n",
    "#np.asarray(histo_Masa_halo)\n",
    "\n",
    "#print(histo_Masa_halo)\n",
    "histo_Masa_halox=np.delete(histo_Masa_halo[1],-1)\n",
    "#print(len(histo_Masa_halo[0]),len(histo_Masa_halo[1]))\n",
    "\n",
    "#popt, pcov = curve_fit(funcion, histo_Masa_halox,histo_Masa_halo[0])\n",
    "\n",
    "#x=np.arange(-1.5,2,0.1)\n",
    "plt.hist(np.log10(Masa_halo_corregido)*1e10/0.7, bins=17)\n",
    "#plt.plot(x,funcion(popt[0],popt[1],popt[2]))\n",
    "#plt.plot(histo_Masa_halox,funcion(histo_Masa_halox,*popt))\n",
    "plt.xlabel('$Mass[M_{\\odot}]$')\n",
    "plt.show()\n"
   ]
  },
  {
   "cell_type": "markdown",
   "metadata": {},
   "source": [
    "## 2.2)"
   ]
  },
  {
   "cell_type": "markdown",
   "metadata": {},
   "source": [
    "Para este punto se va a considerar la masa de diferentes halos. Para cada halo se va ha tomar la cantidad de materia en materia oscura y en materia barionica. Como es sabido la matería oscura se encuntra mayormente en el halo. Se va hacer la gráfica de\n",
    "\n",
    "$\\frac{Mass_{\\star}}{Mass_{DM}}(Mass_{DM})$ donde $Mass_{halo}\\propto Mass_{DM}$"
   ]
  },
  {
   "cell_type": "code",
   "execution_count": 5,
   "metadata": {
    "scrolled": false
   },
   "outputs": [
    {
     "data": {
      "text/plain": [
       "(array([  3.08735925e-03,   1.73320918e-01,   1.69547479e-01,\n",
       "          9.87954960e-02,   8.65318190e-02,   1.04970214e-01,\n",
       "          4.86687882e-01,   6.61380959e-01,   3.10022325e-01,\n",
       "          1.42275805e-01,   5.77164660e-02,   2.37555142e-02,\n",
       "          9.86239760e-03,   3.43039917e-03,   1.54367962e-03,\n",
       "          7.71839812e-04,   2.57279937e-04]),\n",
       " array([  6.5126915 ,   6.94114825,   7.36960501,   7.79806176,\n",
       "          8.22651852,   8.65497527,   9.08343203,   9.51188878,\n",
       "          9.94034554,  10.3688023 ,  10.79725905,  11.22571581,\n",
       "         11.65417256,  12.08262932,  12.51108607,  12.93954283,\n",
       "         13.36799958,  13.79645634]),\n",
       " <a list of 17 Patch objects>)"
      ]
     },
     "execution_count": 5,
     "metadata": {},
     "output_type": "execute_result"
    },
    {
     "name": "stderr",
     "output_type": "stream",
     "text": [
      "/home/daniel/anaconda3/lib/python3.6/site-packages/matplotlib/figure.py:1743: UserWarning: This figure includes Axes that are not compatible with tight_layout, so its results might be incorrect.\n",
      "  warnings.warn(\"This figure includes Axes that are not \"\n"
     ]
    },
    {
     "data": {
      "image/png": "[encoded data removed]",
      "text/plain": [
       "<matplotlib.figure.Figure at 0x7fc9882e4cc0>"
      ]
     },
     "metadata": {},
     "output_type": "display_data"
    }
   ],
   "source": [
    "#sn = gadget.Subfind('Data/groups_015/', parttype=[4,5],  fields =['mass'], combineFiles=True)\n",
    "#sub = arepo.Subfind('Data/groups_015/', SnapNumber=10 ,combineFiles=True)\n",
    "DataFolder = './Data/groups_015/'\n",
    "SnapNumber = 15\n",
    "\n",
    "\n",
    "\n",
    "sub = arepo.Subfind('%s/'%(DataFolder), SnapNumber ,combineFiles=True)\n",
    "\n",
    "Mass_halo=sub.SubhaloMass*1e10/0.7  ##Masa del los halos\n",
    "Mass_haloDM=sub.SubhaloMassType[:,1]*1e10/0.7 ##Mass only dark matter\n",
    "#Mass_haloDM=sub.SubhaloMassType[sub.SubhaloMassType[:,1]!=0,1] ##Mass only dark matter\n",
    "Mass_star=sub.SubhaloMassType[:,4] *1e10/0.7##Masa estelar\n",
    "Mass_star_histo=sub.SubhaloMassType[sub.SubhaloMassType!=0] *1e10/0.7##Masa estelar se obvian los datos que contengan ceros\n",
    "\n",
    "\"\"\"\n",
    "plt.loglog(Mass_halo,(Mass_star/Mass_halo),'.')\n",
    "#plt.plot(Mass_star,Mass_halo,'.')\n",
    "plt.xlim(10e9,10e14)\n",
    "#plt.hist(np.log10(Mass_star_histo), normed='True', bins=17)\n",
    "\"\"\"\n",
    "\n",
    "fig, (ax1, ax2) = plt.subplots(1, 2, figsize=(9, 4.5), tight_layout=True)\n",
    "ax1.set_xlim(10e9,10e14)\n",
    "ax1.set_title('a)   $M_{\\odot}/M_{halo}$')\n",
    "ax1.set_ylabel('$M_{\\star}/M_{halo}$[M_Sun]')\n",
    "ax1.set_xlabel('$M_{halo}$[M_Sun]')\n",
    "ax1.loglog(Mass_halo,(Mass_star/Mass_halo),'.')\n",
    "\n",
    "ax2.set_title('b)   histograma')\n",
    "ax2.set_xlabel('')\n",
    "ax2.set_ylabel('$\\log_{10}(M_{\\star})$[log10 M_sun]')\n",
    "ax2.hist(np.log10(Mass_star_histo), normed='True', bins=17)\n",
    "\n"
   ]
  },
  {
   "cell_type": "markdown",
   "metadata": {},
   "source": [
    "Interpretación: El pico que se observa para estrellas con masa aproximada a $10^{12}M_{\\odot}$, es devido a la disminución de la formación estelar producida por la  aparición de un agn. El agn ioniza el gas a su al rededor y no permite la formación estelar, por otro lado la taza de materia oscura no se ve aectada por ello. Por esto la razón $M_{\\star}/M_{halo}$ esmpieza a disminuir.  \n"
   ]
  },
  {
   "cell_type": "markdown",
   "metadata": {},
   "source": [
    "## 2.3)"
   ]
  },
  {
   "cell_type": "code",
   "execution_count": 6,
   "metadata": {
    "scrolled": true
   },
   "outputs": [
    {
     "name": "stdout",
     "output_type": "stream",
     "text": [
      "Learning about file 0\n",
      "Learning about file 1\n",
      "Learning about file 2\n",
      "Learning about file 3\n",
      "Learning about file 4\n",
      "Learning about file 5\n",
      "Learning about file 6\n",
      "Learning about file 7\n",
      "Learning about file 8\n",
      "Learning about file 9\n",
      "Learning about file 10\n",
      "Learning about file 11\n",
      "Learning about file 12\n",
      "Learning about file 13\n",
      "Learning about file 14\n",
      "Learning about file 15\n",
      "Learning about file 16\n",
      "Learning about file 17\n",
      "Learning about file 18\n",
      "Learning about file 19\n",
      "Learning about file 20\n",
      "Learning about file 21\n",
      "Learning about file 22\n",
      "Learning about file 23\n",
      "Learning about file 24\n",
      "Learning about file 25\n",
      "Learning about file 26\n",
      "Learning about file 27\n",
      "Learning about file 28\n",
      "Learning about file 29\n",
      "Learning about file 30\n",
      "Learning about file 31\n",
      "Learning about file 32\n",
      "Learning about file 33\n",
      "Learning about file 34\n",
      "Learning about file 35\n",
      "Learning about file 36\n",
      "Learning about file 37\n",
      "Learning about file 38\n",
      "Learning about file 39\n",
      "Learning about file 40\n",
      "Learning about file 41\n",
      "Learning about file 42\n",
      "Learning about file 43\n",
      "Learning about file 44\n",
      "Learning about file 45\n",
      "Learning about file 46\n",
      "Learning about file 47\n",
      "Learning about file 48\n",
      "Learning about file 49\n",
      "Reading file 0\n",
      "Reading file 1\n",
      "Reading file 2\n",
      "Reading file 3\n",
      "Reading file 4\n",
      "Reading file 5\n",
      "Reading file 6\n",
      "Reading file 7\n",
      "Reading file 8\n",
      "Reading file 9\n",
      "Reading file 10\n",
      "Reading file 11\n",
      "Reading file 12\n",
      "Reading file 13\n",
      "Reading file 14\n",
      "Reading file 15\n",
      "Reading file 16\n",
      "Reading file 17\n",
      "Reading file 18\n",
      "Reading file 19\n",
      "Reading file 20\n",
      "Reading file 21\n",
      "Reading file 22\n",
      "Reading file 23\n",
      "Reading file 24\n",
      "Reading file 25\n",
      "Reading file 26\n",
      "Reading file 27\n",
      "Reading file 28\n",
      "Reading file 29\n",
      "Reading file 30\n",
      "Reading file 31\n",
      "Reading file 32\n",
      "Reading file 33\n",
      "Reading file 34\n",
      "Reading file 35\n",
      "Reading file 36\n",
      "Reading file 37\n",
      "Reading file 38\n",
      "Reading file 39\n",
      "Reading file 40\n",
      "Reading file 41\n",
      "Reading file 42\n",
      "Reading file 43\n",
      "Reading file 44\n",
      "Reading file 45\n",
      "Reading file 46\n",
      "Reading file 47\n",
      "Reading file 48\n",
      "Reading file 49\n"
     ]
    },
    {
     "data": {
      "text/plain": [
       "\"\\nDataFolder='./Data/snapdir_015'\\nSnapNumber=1\\n\\nSub = gadget.Snapshot('%s/'%(DataFolder), SnapNumber ,combineFiles=True)\\n##  Como saber cuantos snapshops tiene usando algun comando?\\n\""
      ]
     },
     "execution_count": 6,
     "metadata": {},
     "output_type": "execute_result"
    }
   ],
   "source": [
    "\n",
    "\n",
    "#filter=[gadget.filter.Halo(sub.SubhaloPos[:,2]),gadget.filter.Stars()] ##used the Black holes as stars\n",
    "\n",
    "#filter=[gadget.filter.Halo(sub,halo=4),gadget.filter.Stars()] ##used the Black holes as stars\n",
    "\n",
    "\n",
    "sn_bh = gadget.Snapshot('./Data/snapdir_015/snap_015.0.hdf5', parttype=[5], combineFiles=True, verbose=True)\n",
    "\n",
    "#sn_bh = gadget.Snapshot('./Data/snapdir_015/snap_015.1.hdf5', parttype=[5],  combineFiles=True, verbose=True)\n",
    "#sn_bh = gadget.Snapshot('./Data/snapdir_015/', parttype=[5] ,combineFiles=True,fields=['mass','Position'])\n",
    "#Mask = sn_bh.\n",
    "\n",
    "#print(sn_bh)\n",
    "#plt.plot(sn_bh[Mask],sub.SubhaloBHMass[Mask])\n",
    "#sn = gadget.Simulation('./Data/snapdir_015/snap_015.0.hdf5')\n",
    "#sn.plot_Aslice('z')\n",
    "\n",
    "#snap_015.0.hdf5\n",
    "\"\"\"\n",
    "DataFolder='./Data/snapdir_015'\n",
    "SnapNumber=1\n",
    "\n",
    "Sub = gadget.Snapshot('%s/'%(DataFolder), SnapNumber ,combineFiles=True)\n",
    "##  Como saber cuantos snapshops tiene usando algun comando?\n",
    "\"\"\""
   ]
  },
  {
   "cell_type": "code",
   "execution_count": 7,
   "metadata": {},
   "outputs": [
    {
     "name": "stdout",
     "output_type": "stream",
     "text": [
      "[ True  True  True ..., False False False]\n"
     ]
    },
    {
     "data": {
      "text/plain": [
       "<matplotlib.text.Text at 0x7fc95741fd68>"
      ]
     },
     "execution_count": 7,
     "metadata": {},
     "output_type": "execute_result"
    },
    {
     "data": {
      "image/png": "[encoded data removed]",
      "text/plain": [
       "<matplotlib.figure.Figure at 0x7fc957752320>"
      ]
     },
     "metadata": {},
     "output_type": "display_data"
    }
   ],
   "source": [
    "\"\"\"\n",
    "Tengo dudas con respecto a los datos que se deben tomar, no se si por ejemplo estos(los de este punto) corresponden\n",
    "a lo que se quiere graficar\n",
    "\"\"\"\n",
    "\n",
    "Mass_BHstar=sn_bh.BH_Mass[sn_bh.pos[:,2]!=0]*10e10/0.7 ##[M_sun]\n",
    "Mass_BH=sn_bh.Masses[sn_bh.pos[:,2]!=0]*10e10/0.7 #[M_sun] masa total particula del BH\n",
    "#print(sn_bh.BH_SpinParameter[sn_bh.pos[:,2]])\n",
    "print(sn_bh.pos[:,0]<2000)\n",
    "#Spin_parameter=sn_bh.BH_SpinParameter\n",
    "Spin_parameter=sn_bh.BH_SpinParameter[sn_bh.pos[:,2]!=0]\n",
    "\n",
    "#Mass=sn_bh.BH_Mass\n",
    "\n",
    "#fig, (ax1, ax2) = plt.subplots(1, 2, figsize=(9, 4.5), tight_layout=True)\n",
    "\n",
    "plt.loglog(Mass_BH,Spin_parameter ,'.')\n",
    "plt.xlabel('$Mass_{BH}[M_{\\odot}]$')\n",
    "plt.ylabel('$SpinParameter_{BH}[]$')\n",
    "\n",
    "\n"
   ]
  },
  {
   "cell_type": "code",
   "execution_count": null,
   "metadata": {
    "collapsed": true
   },
   "outputs": [],
   "source": []
  },
  {
   "cell_type": "markdown",
   "metadata": {
    "collapsed": true
   },
   "source": [
    "## 2.3)\n",
    "\n"
   ]
  },
  {
   "cell_type": "code",
   "execution_count": 12,
   "metadata": {},
   "outputs": [
    {
     "data": {
      "text/plain": [
       "<matplotlib.text.Text at 0x7fc956add860>"
      ]
     },
     "execution_count": 12,
     "metadata": {},
     "output_type": "execute_result"
    },
    {
     "data": {
      "image/png": "[encoded data removed]",
      "text/plain": [
       "<matplotlib.figure.Figure at 0x7fc957170d30>"
      ]
     },
     "metadata": {},
     "output_type": "display_data"
    }
   ],
   "source": [
    "#print(sub)\n",
    "\n",
    "\n",
    "#DataFolder = './Data/groups_015/'\n",
    "#SnapNumber = 15\n",
    "\n",
    "\n",
    "\n",
    "#sub = arepo.Subfind('%s/'%(DataFolder), SnapNumber ,combineFiles=True)\n",
    "\n",
    "Sub=arepo.Subfind('./Data/groups_015/',15,combineFiles=True)\n",
    "#Masa de los black holes\n",
    "\n",
    "Mass_stellar=Sub.SubhaloMassType[:,4]*10e10/0.7 ## Type4 ->Stars\n",
    "Mass_BH=Sub.SubhaloBHMass*10e10/0.7  ## Masa BH \n",
    "#Mass_BH=Sub.SubhaloMassType[:,5]*10e10/0.7 ## Type5 ->BH\n",
    "\n",
    "#fig, (ax1, ax2) = plt.subplots(1, 2, figsize=(9, 4.5), tight_layout=True)\n",
    "\n",
    "plt.loglog(Mass_stellar,Mass_BH,'.')\n",
    "plt.xlabel('$Mass_{\\star}[M_{\\odot}]$')\n",
    "plt.ylabel('$Mass_{BH}[M_{\\odot}]$')\n",
    "\n",
    "#ax2.loglog(Mass_BH,Mass_BH/Mass_stellar,'.')\n",
    "#ax2.set_ylabel('$MassBH/MassBH_{\\star}[M_{\\odot}]$')\n",
    "#ax2.set_xlabel('Mass$_{BH}[M_{\\odot}]$')\n"
   ]
  },
  {
   "cell_type": "code",
   "execution_count": null,
   "metadata": {
    "collapsed": true
   },
   "outputs": [],
   "source": []
  },
  {
   "cell_type": "code",
   "execution_count": null,
   "metadata": {
    "collapsed": true
   },
   "outputs": [],
   "source": []
  }
 ],
 "metadata": {
  "kernelspec": {
   "display_name": "Python 3",
   "language": "python",
   "name": "python3"
  },
  "language_info": {
   "codemirror_mode": {
    "name": "ipython",
    "version": 3
   },
   "file_extension": ".py",
   "mimetype": "text/x-python",
   "name": "python",
   "nbconvert_exporter": "python",
   "pygments_lexer": "ipython3",
   "version": "3.6.1"
  }
 },
 "nbformat": 4,
 "nbformat_minor": 2
}
