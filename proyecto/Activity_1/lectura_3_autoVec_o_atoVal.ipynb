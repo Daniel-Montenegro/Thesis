{
 "cells": [
  {
   "cell_type": "code",
   "execution_count": 1,
   "metadata": {},
   "outputs": [
    {
     "name": "stdout",
     "output_type": "stream",
     "text": [
      "Populating the interactive namespace from numpy and matplotlib\n"
     ]
    },
    {
     "name": "stderr",
     "output_type": "stream",
     "text": [
      "/home/daniel/.local/lib/python3.6/site-packages/gadget-0.1-py3.6-linux-x86_64.egg/gadget/const.py:20: UserWarning: Could not setup constants\n",
      "  warnings.warn(\"Could not setup constants\")\n"
     ]
    }
   ],
   "source": [
    "#librerías\n",
    "import numpy as np\n",
    "from scipy import stats\n",
    "import matplotlib.pyplot as plt\n",
    "import gadget \n",
    "import arepo\n",
    "\n",
    "\n",
    "\"\"\"\n",
    "===================================\n",
    "    ->Lectura de los autovectores\n",
    "\"\"\"\n",
    "\n",
    "from struct import *\n",
    "import sys\n",
    "import os\n",
    "\n",
    "\n",
    "%pylab inline"
   ]
  },
  {
   "cell_type": "code",
   "execution_count": 2,
   "metadata": {
    "collapsed": true
   },
   "outputs": [],
   "source": [
    "Sn_bh = gadget.Snapshot('../../Data/snap_015.0.hdf5', parttype=[5])"
   ]
  },
  {
   "cell_type": "code",
   "execution_count": 3,
   "metadata": {},
   "outputs": [
    {
     "data": {
      "text/plain": [
       "Quantity([[  631.28878196,  7531.14490752,  7167.51987284],\n",
       "       [  663.85491272,  7542.56652565,  7138.94906246],\n",
       "       [  690.30428576,  7601.26662394,  6818.69049836],\n",
       "       [  425.63533352,  7639.22267624,  6806.7480046 ],\n",
       "       [  906.20003826,  7640.45772474,  6935.2736818 ],\n",
       "       [  646.87401608,  6998.73256069,  7394.17057261],\n",
       "       [  993.93650611,  8200.26887895,  6837.61417368],\n",
       "       [  484.42259957,  7867.15041299,  6365.62227952],\n",
       "       [  281.81428513,  7482.65211167,  7506.03267541],\n",
       "       [  744.4964462 ,  8051.67639877,  6365.48292827],\n",
       "       [  406.18510836,  7730.22179106,  6751.77854405],\n",
       "       [  638.52256114,  8112.48247954,  6252.38316511],\n",
       "       [  201.31828569,  8079.92652723,  6059.52221224],\n",
       "       [  653.51106685,  7557.26593193,  7018.22729886],\n",
       "       [  628.24215653,  7222.33181589,  7523.21209613],\n",
       "       [  538.3977704 ,  8201.9072569 ,  6213.72378394],\n",
       "       [  534.99639846,  7149.22314623,  7463.37354229],\n",
       "       [  478.91777964,  7324.75959922,  7289.44445413],\n",
       "       [ 1083.81102254,  7610.6963017 ,  6916.38923702],\n",
       "       [  598.79040757,  7662.73409361,  7020.10701189],\n",
       "       [  553.96096948,  7544.69554732,  7023.72847532]], unit=[h^-1 a^1 kpc])"
      ]
     },
     "execution_count": 3,
     "metadata": {},
     "output_type": "execute_result"
    }
   ],
   "source": [
    "\"\"\"\n",
    "BLACK HOLES\n",
    "\"\"\"\n",
    "\n",
    "Spin_bh=Sn_bh.BH_SpinOrientation #Spin de los black hole\n",
    "r_bh = Sn_bh.Coordinates  # cordanada en x,y,z\n",
    "Mass_bh = Sn_bh.BH_Mass*10e10/0.7 ## M(sun)\n",
    "vel_disp_bh = Sn_bh.SubfindVelDisp  ##km/s\n",
    "#vel_bh = Sn_bh.Velocities ##km*sqrt(a)/s\n",
    "Sn_bh.Coordinates"
   ]
  },
  {
   "cell_type": "code",
   "execution_count": 63,
   "metadata": {},
   "outputs": [
    {
     "name": "stdout",
     "output_type": "stream",
     "text": [
      "--------------------\n",
      "\n"
     ]
    }
   ],
   "source": [
    "#Cargar los datos para \n",
    "\n",
    "\"\"\"\n",
    "======================\n",
    "Lectura de Datos \n",
    "\n",
    "    ---> EigenVectores\n",
    "======================\n",
    "\"\"\"\n",
    "\n",
    "## Dirección archivos ##\n",
    "#Direction_eigenvector='../Bolshoi/Eigenvec_s1_1'\n",
    "#Direction_eigenvalor='../Bolshoi/Eigen_s1_1'\n",
    "\n",
    "\n",
    "\n",
    "def read_eigenVec(folder,file,NumEigenVec):\n",
    "    print(\"Reading eigenvector file\")\n",
    "    f = open(\"%s%s%s\"%(folder,file,NumEigenVec), \"rb\")\n",
    "    #f = open(\"../Bolshoi/Eigenvec_s1_1\", \"rb\")\n",
    "    dumb = f.read(38)\n",
    "\n",
    "    dumb = f.read(4)\n",
    "    n_x = f.read(4)\n",
    "    n_y = f.read(4)\n",
    "    n_z = f.read(4)\n",
    "    nodes = f.read(4)\n",
    "    x0 = f.read(4)\n",
    "    y0 = f.read(4)\n",
    "    z0 = f.read(4)\n",
    "    dx = f.read(4)\n",
    "    dy = f.read(4)\n",
    "    dz = f.read(4)\n",
    "    dumb = f.read(4)\n",
    "\n",
    "    n_x = (unpack('i', n_x))[0]\n",
    "    n_y = (unpack('i', n_y))[0]\n",
    "    n_z = (unpack('i', n_z))[0]\n",
    "    nodes = (unpack('i', nodes))[0]\n",
    "    dx = (unpack('f', dx))[0]\n",
    "    dy = (unpack('f', dy))[0]\n",
    "    dz = (unpack('f', dz))[0]\n",
    "    x0 = (unpack('f', x0))[0]\n",
    "    y0 = (unpack('f', y0))[0]\n",
    "    z0 = (unpack('f', z0))[0]\n",
    "    print(n_x, n_y, n_z, nodes, dx, dy, dz)\n",
    "\n",
    "    total_nodes = 3 * n_x * n_y *n_z\n",
    "    dumb = f.read(4)\n",
    "    array_data = f.read(total_nodes*4)\n",
    "    dumb = f.read(4)\n",
    "    format_s = str(total_nodes)+'f'\n",
    "    array_data = unpack(format_s, array_data)\n",
    "    f.close()\n",
    "    array_data  = np.array(array_data)\n",
    "    new_array_data = np.reshape(array_data, (3,n_x,n_y,n_z), order='F')\n",
    "    return new_array_data, n_x\n",
    "    \n",
    "print(\"--------------------\\n\")\n",
    "\n",
    "#print(new_array_data[:,0,0,0])\n"
   ]
  },
  {
   "cell_type": "code",
   "execution_count": 64,
   "metadata": {
    "collapsed": true
   },
   "outputs": [],
   "source": [
    "###calcular los autovelores para los radios respectivos\n",
    "\n",
    "#r=[]\n",
    "#eigen_vec_r=[]\n",
    "def Eigen_vec(r,n_x):\n",
    "    \"\"\"\n",
    "    Esta funcion retorna el valor del auntoVector \n",
    "    correspondiente a las coordenadas r(x,y,z)\n",
    "    \"\"\"\n",
    "        \n",
    "    long_box= 25e3 #longitud caja\n",
    "    \n",
    "    dl = n_x/long_box #tamaño de cada celda = numero_celdas/long_caja\n",
    "    \n",
    "    i=np.int(r[0]*dl)\n",
    "    j=np.int(r[1]*dl)\n",
    "    k=np.int(r[2]*dl)\n",
    "    \n",
    "   \n",
    "    \n",
    "\n",
    "    \"\"\"\n",
    "    eigen_vec_r =np.array([new_array_data[0,i,j,k],\\\n",
    "                            new_array_data[1,i,j,k],\\\n",
    "                            new_array_data[2,i,j,k]])\n",
    "    \"\"\"\n",
    "\n",
    "    eigen_vec_r = [new_array_data[0,i,j,k],\\\n",
    "                            new_array_data[1,i,j,k],\\\n",
    "                            new_array_data[2,i,j,k]]\n",
    "\n",
    "       \n",
    "    \n",
    "    #return r[0],r[1],r[2]\n",
    "    return eigen_vec_r\n"
   ]
  },
  {
   "cell_type": "code",
   "execution_count": 34,
   "metadata": {},
   "outputs": [
    {
     "data": {
      "text/plain": [
       "'\\nMag_EigenVec=[]\\nMag_Spin_bh=[]\\nDot=[]\\nEigenVec=[]\\ncos_theta=[]\\nfor i in range(len(r_bh)):\\n    \\n    #Enviroment=np.append(Enviroment,[Eigen_vec(r_bh[i])])\\n    #New_enviroment=reshape(Enviroment,(1,n_x))\\n    EigenVec.append(Eigen_vec(r_bh[i]))\\n    \\n    Mag_EigenVec.append(np.linalg.norm(EigenVec[i])) ##magnitud del autovector\\n    Mag_Spin_bh.append(np.linalg.norm(Spin_bh[i]))       ##magnitud del Spin_bh\\n    Dot.append(np.vdot(EigenVec[i],Spin_bh[i]))      ##Productopunto del autovec y spin_bh\\n    cos_theta.append(Dot[i]/(Mag_EigenVec[i]*Mag_Spin_bh[i])) \\n    \\n\\n#print(Mag_Enviroment[0])    \\n\\nprint(cos_theta)\\n'"
      ]
     },
     "execution_count": 34,
     "metadata": {},
     "output_type": "execute_result"
    }
   ],
   "source": [
    "## asignacion de autovectores con su radio respectivo\n",
    "\"\"\"\n",
    "Mag_EigenVec=[]\n",
    "Mag_Spin_bh=[]\n",
    "Dot=[]\n",
    "EigenVec=[]\n",
    "cos_theta=[]\n",
    "for i in range(len(r_bh)):\n",
    "    \n",
    "    #Enviroment=np.append(Enviroment,[Eigen_vec(r_bh[i])])\n",
    "    #New_enviroment=reshape(Enviroment,(1,n_x))\n",
    "    EigenVec.append(Eigen_vec(r_bh[i]))\n",
    "    \n",
    "    Mag_EigenVec.append(np.linalg.norm(EigenVec[i])) ##magnitud del autovector\n",
    "    Mag_Spin_bh.append(np.linalg.norm(Spin_bh[i]))       ##magnitud del Spin_bh\n",
    "    Dot.append(np.vdot(EigenVec[i],Spin_bh[i]))      ##Productopunto del autovec y spin_bh\n",
    "    cos_theta.append(Dot[i]/(Mag_EigenVec[i]*Mag_Spin_bh[i])) \n",
    "    \n",
    "\n",
    "#print(Mag_Enviroment[0])    \n",
    "\n",
    "print(cos_theta)\n",
    "\"\"\""
   ]
  },
  {
   "cell_type": "code",
   "execution_count": 91,
   "metadata": {},
   "outputs": [
    {
     "name": "stdout",
     "output_type": "stream",
     "text": [
      "Reading eigenvector file\n",
      "64 64 64 262144 195.3125 390.625 390.625\n",
      "counter =  0\n",
      "/home/daniel/Documentos/Tesis/Data/Tweb_512/snap_015.s1.00.eigenvec_0\n",
      "Reading eigenvector file\n",
      "64 64 64 262144 195.3125 390.625 390.625\n",
      "counter =  21\n",
      "/home/daniel/Documentos/Tesis/Data/Tweb_512/snap_015.s1.00.eigenvec_21\n",
      "Reading eigenvector file\n",
      "64 64 64 262144 195.3125 390.625 390.625\n",
      "counter =  42\n",
      "/home/daniel/Documentos/Tesis/Data/Tweb_512/snap_015.s1.00.eigenvec_42\n"
     ]
    },
    {
     "data": {
      "image/png": "[encoded data removed]",
      "text/plain": [
       "<matplotlib.figure.Figure at 0x7f46b1e80128>"
      ]
     },
     "metadata": {},
     "output_type": "display_data"
    }
   ],
   "source": [
    "\n",
    "## asignacion de autovectores con su radio respectivo\n",
    "\"\"\"\n",
    "Mag_EigenVec = [[Mag_EigenVec1],[Mag_EigenVec2],[Mag_EigenVec3]]\n",
    "Mag_Spin_bh = [[Mag_Spin_bh1],[Mag_Spin_bh2],[Mag_Spin_bh]]\n",
    "Dot= [[Dot1],[Dot2],[Dot3]]\n",
    "EigenVec= [[EigenVec1],[EigenVec2],[EigenVec3]]\n",
    "cos_theta = []\n",
    "\"\"\"\n",
    "Mag_EigenVec = []\n",
    "Mag_Spin_bh = []\n",
    "Dot= []\n",
    "EigenVec= []\n",
    "cos_theta = []\n",
    "\n",
    "\n",
    "\n",
    "\n",
    "#NumEigenVec = \"1\" \n",
    "\n",
    "folder = '/home/daniel/Documentos/Tesis/Data/Tweb_512/'\n",
    "file = 'snap_015.s1.00.eigenvec_'\n",
    "\n",
    "plt.figure()\n",
    "\n",
    "\n",
    "counter = 0\n",
    "Q=1\n",
    "for j in range(0,3):\n",
    "    \n",
    "    \n",
    "    new_array_data, n_x = read_eigenVec(folder,file,\"%s\"%(Q))\n",
    "    print(\"counter = \",counter)\n",
    "    print(\"%s%s%s\"%(folder,file, counter))\n",
    "    \n",
    "    for i in range(len(r_bh)):\n",
    "\n",
    "        #Enviroment=np.append(Enviroment,[Eigen_vec(r_bh[i])])\n",
    "        #New_enviroment=reshape(Enviroment,(1,n_x))\n",
    "        \"\"\"\n",
    "        EigenVec[j].append(Eigen_vec(r_bh[i],n_x))\n",
    "        Mag_EigenVec[j].append(np.linalg.norm(EigenVec[j][i])) ##magnitud del autovector\n",
    "        Mag_Spin_bh[j].append(np.linalg.norm(Spin_bh[i]))       ##magnitud del Spin_bh\n",
    "        Dot[j].append(np.vdot(EigenVec[j][i],Spin_bh[i]))      ##Productopunto del autovec y spin_bh\n",
    "        cos_theta.append(Dot[j][i]/(Mag_EigenVec[j][i]*Mag_Spin_bh[j][i])) \n",
    "        \"\"\"\n",
    "        \n",
    "        EigenVec.append(Eigen_vec(r_bh[i],n_x))\n",
    "        Mag_EigenVec.append(np.linalg.norm(EigenVec[counter])) ##magnitud del autovector\n",
    "        Mag_Spin_bh.append(np.linalg.norm(Spin_bh[i]))       ##magnitud del Spin_bh\n",
    "        Dot.append(np.vdot(EigenVec[counter],Spin_bh[i]))      ##Productopunto del autovec y spin_bh\n",
    "        cos_theta.append(Dot[counter]/(Mag_EigenVec[counter]*Mag_Spin_bh[counter])) \n",
    "        counter=counter+1\n",
    "    Q=Q+1\n",
    "    \n",
    "    \n",
    "#print(EigenVec)\n",
    "cos_theta = np.reshape(cos_theta,(3,len(r_bh)))    \n",
    "\n",
    "#print(cos_theta[1])\n",
    "#print(cos_theta[0])\n",
    "\n",
    "plt.plot(np.log10(Mass_bh),cos_theta[0],'.', label='Eigen_1')\n",
    "\n",
    "plt.plot(np.log10(Mass_bh),cos_theta[1],'.', label='Eigen_2')\n",
    "\n",
    "plt.plot(np.log10(Mass_bh),cos_theta[2],'.', label='Eigen_3')\n",
    "plt.xlabel('$\\log_{10}(M_{bh})[M_{\\odot}]$')\n",
    "plt.ylabel('$\\cos( \\Theta ) $')\n",
    "plt.legend(loc='upper right', shadow=True, fontsize='x-large')\n",
    "plt.savefig('Alinacion_Enviroment_bh.png')\n",
    "\n",
    "    \n",
    "\n",
    "#print(Mag_Enviroment[0])    \n",
    "\n"
   ]
  },
  {
   "cell_type": "code",
   "execution_count": 59,
   "metadata": {},
   "outputs": [
    {
     "data": {
      "text/plain": [
       "\"\\nplt.plot(np.log10(Mass_bh),cos_theta,'.')\\nplt.xlabel('$\\\\log_{10}(M_{bh})[M_{\\\\odot}]$')\\nplt.ylabel('$\\\\cos( \\\\Theta ) $')\\nplt.savefig('Alinacion_Enviroment_bh.png')\\n\""
      ]
     },
     "execution_count": 59,
     "metadata": {},
     "output_type": "execute_result"
    }
   ],
   "source": [
    "### GRAFICA\n",
    "\"\"\"\n",
    "plt.plot(np.log10(Mass_bh),cos_theta,'.')\n",
    "plt.xlabel('$\\log_{10}(M_{bh})[M_{\\odot}]$')\n",
    "plt.ylabel('$\\cos( \\Theta ) $')\n",
    "plt.savefig('Alinacion_Enviroment_bh.png')\n",
    "\"\"\"\n",
    "\n"
   ]
  },
  {
   "cell_type": "code",
   "execution_count": 60,
   "metadata": {},
   "outputs": [
    {
     "name": "stdout",
     "output_type": "stream",
     "text": [
      "[23]\n"
     ]
    }
   ],
   "source": [
    "Mag_EigenVec = [[23]]*3\n",
    "#Mag_EigenVec = [[1,4,5,6],[2,10,0,12],[3,54,34,19]]\n",
    "#Mag_EigenVec=np.reshape(Mag_EigenVec,(1,3))\n",
    "#for i in range(4):\n",
    "print(Mag_EigenVec[:][2])"
   ]
  },
  {
   "cell_type": "code",
   "execution_count": 77,
   "metadata": {},
   "outputs": [
    {
     "name": "stdout",
     "output_type": "stream",
     "text": [
      "[[], [], []]\n"
     ]
    }
   ],
   "source": [
    "EigenVec= [[]]*3\n",
    "print(EigenVec)\n"
   ]
  },
  {
   "cell_type": "code",
   "execution_count": null,
   "metadata": {
    "collapsed": true
   },
   "outputs": [],
   "source": []
  }
 ],
 "metadata": {
  "kernelspec": {
   "display_name": "Python 3",
   "language": "python",
   "name": "python3"
  },
  "language_info": {
   "codemirror_mode": {
    "name": "ipython",
    "version": 3
   },
   "file_extension": ".py",
   "mimetype": "text/x-python",
   "name": "python",
   "nbconvert_exporter": "python",
   "pygments_lexer": "ipython3",
   "version": "3.6.1"
  }
 },
 "nbformat": 4,
 "nbformat_minor": 2
}
