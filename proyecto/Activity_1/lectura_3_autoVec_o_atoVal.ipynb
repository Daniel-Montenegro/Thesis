{
 "cells": [
  {
   "cell_type": "code",
   "execution_count": 1,
   "metadata": {},
   "outputs": [
    {
     "name": "stdout",
     "output_type": "stream",
     "text": [
      "Populating the interactive namespace from numpy and matplotlib\n"
     ]
    }
   ],
   "source": [
    "#librerías\n",
    "import numpy as np\n",
    "from scipy import stats\n",
    "import matplotlib.pyplot as plt\n",
    "\n",
    "\n",
    "\"\"\"\n",
    "===================================\n",
    "    ->Lectura de los autovectores\n",
    "\"\"\"\n",
    "\n",
    "from struct import *\n",
    "import sys\n",
    "import os\n",
    "\n",
    "\n",
    "%pylab inline"
   ]
  },
  {
   "cell_type": "code",
   "execution_count": 2,
   "metadata": {},
   "outputs": [
    {
     "name": "stdout",
     "output_type": "stream",
     "text": [
      "Reading eigenvector file\n",
      "64 64 64 262144 195.3125 390.625 390.625\n",
      "--------------------\n",
      "\n"
     ]
    }
   ],
   "source": [
    "#Cargar los datos para \n",
    "\n",
    "\"\"\"\n",
    "======================\n",
    "Lectura de Datos \n",
    "\n",
    "    ---> EigenVectores\n",
    "======================\n",
    "\"\"\"\n",
    "\n",
    "## Dirección archivos ##\n",
    "#Direction_eigenvector='../Bolshoi/Eigenvec_s1_1'\n",
    "#Direction_eigenvalor='../Bolshoi/Eigen_s1_1'\n",
    "\n",
    "\n",
    "folder = '/home/daniel/Documentos/Tesis/Data/Tweb_512/'\n",
    "file = 'snap_015.s1.00.eigenvec_1'\n",
    "\n",
    "print(\"Reading eigenvector file\")\n",
    "f = open(\"%s%s\"%(folder,file), \"rb\")\n",
    "#f = open(\"../Bolshoi/Eigenvec_s1_1\", \"rb\")\n",
    "dumb = f.read(38)\n",
    "\n",
    "dumb = f.read(4)\n",
    "n_x = f.read(4)\n",
    "n_y = f.read(4)\n",
    "n_z = f.read(4)\n",
    "nodes = f.read(4)\n",
    "x0 = f.read(4)\n",
    "y0 = f.read(4)\n",
    "z0 = f.read(4)\n",
    "dx = f.read(4)\n",
    "dy = f.read(4)\n",
    "dz = f.read(4)\n",
    "dumb = f.read(4)\n",
    "\n",
    "n_x = (unpack('i', n_x))[0]\n",
    "n_y = (unpack('i', n_y))[0]\n",
    "n_z = (unpack('i', n_z))[0]\n",
    "nodes = (unpack('i', nodes))[0]\n",
    "dx = (unpack('f', dx))[0]\n",
    "dy = (unpack('f', dy))[0]\n",
    "dz = (unpack('f', dz))[0]\n",
    "x0 = (unpack('f', x0))[0]\n",
    "y0 = (unpack('f', y0))[0]\n",
    "z0 = (unpack('f', z0))[0]\n",
    "print(n_x, n_y, n_z, nodes, dx, dy, dz)\n",
    "\n",
    "total_nodes = 3 * n_x * n_y *n_z\n",
    "dumb = f.read(4)\n",
    "array_data = f.read(total_nodes*4)\n",
    "dumb = f.read(4)\n",
    "format_s = str(total_nodes)+'f'\n",
    "array_data = unpack(format_s, array_data)\n",
    "f.close()\n",
    "array_data  = np.array(array_data)\n",
    "new_array_data = np.reshape(array_data, (3,n_x,n_y,n_z), order='F')\n",
    "print(\"--------------------\\n\")\n",
    "\n",
    "#print(new_array_data[:,0,0,0])\n"
   ]
  },
  {
   "cell_type": "code",
   "execution_count": 3,
   "metadata": {
    "collapsed": true
   },
   "outputs": [],
   "source": [
    "###calcular los autovelores para los radios respectivos\n",
    "\n",
    "#r=[]\n",
    "#eigen_vec_r=[]\n",
    "def Eigen_vec(r):\n",
    "    \"\"\"\n",
    "    Esta funcion retorna el valor del auntoVector \n",
    "    correspondiente a las coordenadas r(x,y,z)\n",
    "    \"\"\"\n",
    "        \n",
    "    long_box= 25e3 #longitud caja\n",
    "    \n",
    "    dl = n_x/long_box #tamaño de cada celda = numero_celdas/long_caja\n",
    "    \n",
    "    i=np.int(r[0]*dl)\n",
    "    j=np.int(r[1]*dl)\n",
    "    k=np.int(r[2]*dl)\n",
    "    \n",
    "   \n",
    "    \n",
    "\n",
    "    \"\"\"\n",
    "    eigen_vec_r =np.array([new_array_data[0,i,j,k],\\\n",
    "                            new_array_data[1,i,j,k],\\\n",
    "                            new_array_data[2,i,j,k]])\n",
    "    \"\"\"\n",
    "    \n",
    "    eigen_vec_r = [new_array_data[0,i,j,k],\\\n",
    "                            new_array_data[1,i,j,k],\\\n",
    "                            new_array_data[2,i,j,k]]\n",
    "\n",
    "   \n",
    "    \n",
    "    #return r[0],r[1],r[2]\n",
    "    return eigen_vec_r\n"
   ]
  },
  {
   "cell_type": "code",
   "execution_count": 4,
   "metadata": {},
   "outputs": [
    {
     "ename": "NameError",
     "evalue": "name 'r_bh' is not defined",
     "output_type": "error",
     "traceback": [
      "\u001b[0;31m---------------------------------------------------------------------------\u001b[0m",
      "\u001b[0;31mNameError\u001b[0m                                 Traceback (most recent call last)",
      "\u001b[0;32m<ipython-input-4-d59115c25869>\u001b[0m in \u001b[0;36m<module>\u001b[0;34m()\u001b[0m\n\u001b[1;32m      6\u001b[0m \u001b[0mEigenVec\u001b[0m\u001b[0;34m=\u001b[0m\u001b[0;34m[\u001b[0m\u001b[0;34m]\u001b[0m\u001b[0;34m\u001b[0m\u001b[0m\n\u001b[1;32m      7\u001b[0m \u001b[0mcos_theta\u001b[0m\u001b[0;34m=\u001b[0m\u001b[0;34m[\u001b[0m\u001b[0;34m]\u001b[0m\u001b[0;34m\u001b[0m\u001b[0m\n\u001b[0;32m----> 8\u001b[0;31m \u001b[0;32mfor\u001b[0m \u001b[0mi\u001b[0m \u001b[0;32min\u001b[0m \u001b[0mrange\u001b[0m\u001b[0;34m(\u001b[0m\u001b[0mlen\u001b[0m\u001b[0;34m(\u001b[0m\u001b[0mr_bh\u001b[0m\u001b[0;34m)\u001b[0m\u001b[0;34m)\u001b[0m\u001b[0;34m:\u001b[0m\u001b[0;34m\u001b[0m\u001b[0m\n\u001b[0m\u001b[1;32m      9\u001b[0m \u001b[0;34m\u001b[0m\u001b[0m\n\u001b[1;32m     10\u001b[0m     \u001b[0;31m#Enviroment=np.append(Enviroment,[Eigen_vec(r_bh[i])])\u001b[0m\u001b[0;34m\u001b[0m\u001b[0;34m\u001b[0m\u001b[0m\n",
      "\u001b[0;31mNameError\u001b[0m: name 'r_bh' is not defined"
     ]
    }
   ],
   "source": [
    "## asignacion de autovectores con su radio respectivo\n",
    "\n",
    "Mag_EigenVec=[]\n",
    "Mag_Spin_bh=[]\n",
    "Dot=[]\n",
    "EigenVec=[]\n",
    "cos_theta=[]\n",
    "for i in range(len(r_bh)):\n",
    "    \n",
    "    #Enviroment=np.append(Enviroment,[Eigen_vec(r_bh[i])])\n",
    "    #New_enviroment=reshape(Enviroment,(1,n_x))\n",
    "    EigenVec.append(Eigen_vec(r_bh[i]))\n",
    "    \n",
    "    Mag_EigenVec.append(np.linalg.norm(EigenVec[i])) ##magnitud del autovector\n",
    "    Mag_Spin_bh.append(np.linalg.norm(Spin_bh[i]))       ##magnitud del Spin_bh\n",
    "    Dot.append(np.vdot(EigenVec[i],Spin_bh[i]))      ##Productopunto del autovec y spin_bh\n",
    "    cos_theta.append(Dot[i]/(Mag_EigenVec[i]*Mag_Spin_bh[i])) \n",
    "    \n",
    "\n",
    "#print(Mag_Enviroment[0])    \n",
    "\n",
    "print(cos_theta)"
   ]
  },
  {
   "cell_type": "code",
   "execution_count": null,
   "metadata": {
    "collapsed": true
   },
   "outputs": [],
   "source": []
  }
 ],
 "metadata": {
  "kernelspec": {
   "display_name": "Python 3",
   "language": "python",
   "name": "python3"
  },
  "language_info": {
   "codemirror_mode": {
    "name": "ipython",
    "version": 3
   },
   "file_extension": ".py",
   "mimetype": "text/x-python",
   "name": "python",
   "nbconvert_exporter": "python",
   "pygments_lexer": "ipython3",
   "version": "3.6.1"
  }
 },
 "nbformat": 4,
 "nbformat_minor": 2
}
