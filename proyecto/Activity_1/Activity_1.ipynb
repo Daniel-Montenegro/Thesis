{
 "cells": [
  {
   "cell_type": "markdown",
   "metadata": {},
   "source": [
    "En este código se pretende calcular el angulo $\\theta$, que corresponde al ángulo entre el momento angular del disco $\\bf{\\vec{J_{d}}}$ y el momentum angular del Agujero negro $\\bf{\\vec{J_{bh}}}$. Se pretende determinar la posible relación del $\\cos(\\theta)$ con la masa del halo $M_{halo}$ y la masa del agujero negro $M_{bh}$.\n"
   ]
  },
  {
   "cell_type": "code",
   "execution_count": 1,
   "metadata": {},
   "outputs": [
    {
     "name": "stdout",
     "output_type": "stream",
     "text": [
      "Populating the interactive namespace from numpy and matplotlib\n"
     ]
    },
    {
     "name": "stderr",
     "output_type": "stream",
     "text": [
      "/home/daniel/.local/lib/python3.6/site-packages/gadget-0.1-py3.6-linux-x86_64.egg/gadget/const.py:20: UserWarning: Could not setup constants\n",
      "  warnings.warn(\"Could not setup constants\")\n"
     ]
    }
   ],
   "source": [
    "#librerías\n",
    "import numpy as np\n",
    "from scipy.optimize import curve_fit\n",
    "from scipy import stats\n",
    "import matplotlib.pyplot as plt\n",
    "import gadget \n",
    "import arepo\n",
    "\n",
    "\"\"\"\n",
    "===================================\n",
    "    ->Lectura de los autovectores\n",
    "\"\"\"\n",
    "\n",
    "from struct import *\n",
    "import sys\n",
    "import os\n",
    "\n",
    "\n",
    "%pylab inline"
   ]
  },
  {
   "cell_type": "code",
   "execution_count": 2,
   "metadata": {
    "collapsed": true
   },
   "outputs": [],
   "source": [
    "Sn_bh = gadget.Snapshot('../../Data/snap_015.0.hdf5', parttype=[5])\n"
   ]
  },
  {
   "cell_type": "code",
   "execution_count": 3,
   "metadata": {
    "collapsed": true
   },
   "outputs": [],
   "source": [
    "\"\"\"\n",
    "BLACK HOLES\n",
    "\"\"\"\n",
    "\n",
    "Spin_bh=Sn_bh.BH_SpinOrientation #Spin de los black hole\n",
    "r_bh = Sn_bh.Coordinates  # cordanada en x,y,z\n",
    "Mass_bh = Sn_bh.BH_Mass*10e10/0.7 ## M(sun)\n",
    "vel_disp_bh = Sn_bh.SubfindVelDisp  ##km/s\n",
    "vel_bh = Sn_bh.Velocities ##km*sqrt(a)/s\n",
    "\n"
   ]
  },
  {
   "cell_type": "code",
   "execution_count": 4,
   "metadata": {},
   "outputs": [
    {
     "data": {
      "image/png": "[encoded data removed]",
      "text/plain": [
       "<matplotlib.figure.Figure at 0x7fa720c73588>"
      ]
     },
     "metadata": {},
     "output_type": "display_data"
    }
   ],
   "source": [
    "\n",
    "\"\"\"\n",
    "Histograma de masa de los BH's\n",
    "\"\"\"\n",
    "Bines=np.int(np.sqrt(len(Mass_bh)))\n",
    "#hist_Mass_halo=np.histogram(np.log10(Mass_halo), bins=17)\n",
    "plt.hist(np.log10(Mass_bh),bins=5)\n",
    "plt.xlabel(\"$\\log_{10}(Mass_{bh})[M_{\\odot}]$\")\n",
    "plt.savefig(\"histo_Mass_bh.png\")\n"
   ]
  },
  {
   "cell_type": "code",
   "execution_count": 5,
   "metadata": {},
   "outputs": [
    {
     "data": {
      "image/png": "[encoded data removed]",
      "text/plain": [
       "<matplotlib.figure.Figure at 0x7fa71d4db9b0>"
      ]
     },
     "metadata": {},
     "output_type": "display_data"
    }
   ],
   "source": [
    "\"\"\"\n",
    "GRAFICAS DE VERIFIVACION\n",
    "    --> En esta parte del codigo se pretende\n",
    "        verificar si los datos y los calculos \n",
    "        son congruentes.\n",
    "\"\"\"\n",
    "\n",
    "\"\"\"\n",
    "plt.figure()\n",
    "plt.plot(np.log10(vel_bh[:,0]),np.log10(Mass_bh),\".\")\n",
    "plt.xlabel(\"$Vel_{bh}[km/s]$\")\n",
    "plt.ylabel(\"$\\log_{10}(Mass_{bh})[Mass_{\\odot}]$\")\n",
    "plt.savefig('vel_max_VS_mass_bh.png')\n",
    "\"\"\"\n",
    "\n",
    "plt.figure()\n",
    "plt.plot(np.log10(vel_disp_bh),np.log10(Mass_bh),\".\")\n",
    "plt.xlabel(\"$\\log(\\sigma_{halo})[km/s]$\")\n",
    "plt.ylabel(\"$\\log_{10}(Mass_{bh})[Mass_{\\odot}]$\")\n",
    "plt.savefig('vel_dis_VS_mass_bh.png')\n",
    "\n",
    "\n",
    "\n"
   ]
  },
  {
   "cell_type": "code",
   "execution_count": 6,
   "metadata": {},
   "outputs": [
    {
     "name": "stdout",
     "output_type": "stream",
     "text": [
      "21\n"
     ]
    }
   ],
   "source": [
    "#print(r[0])\n",
    "#print(r_bh)\n",
    "print(len(r_bh))"
   ]
  },
  {
   "cell_type": "code",
   "execution_count": null,
   "metadata": {
    "collapsed": true
   },
   "outputs": [],
   "source": []
  },
  {
   "cell_type": "code",
   "execution_count": 7,
   "metadata": {
    "collapsed": true
   },
   "outputs": [],
   "source": [
    "\"\"\"\n",
    "INFORMACION SOBRE LOS HALOS\n",
    "\"\"\"\n",
    "\n",
    "#DataFolder= '../../Data/groups_015/'\n",
    "#SnapNumber= 1\n",
    "\n",
    "\n",
    "#sub = arepo.Subfind('%s/'%(DataFolder), SnapNumber ,combineFiles=True)\n",
    "sub = gadget.Subfind('../../Data/groups_015/fof_subhalo_tab_015.0.hdf5' ,combineFiles=True)"
   ]
  },
  {
   "cell_type": "code",
   "execution_count": 8,
   "metadata": {
    "collapsed": true
   },
   "outputs": [],
   "source": [
    "\"\"\"\n",
    "HALOS\n",
    "\"\"\"\n",
    "size_data = len(Mass_bh)  ##tamano de los datos\n",
    "\n",
    "Mass_halo= sub.SubhaloMass*10e10/0.7 \n",
    "vel_dis_halo = sub.SubhaloVelDisp ##km/s \n",
    "vel_max_halo = sub.SubhaloVmax  ##km/s \n",
    "spin_halo=sub.SubhaloSpin ##ckpc/h\n",
    "r_halo = sub.SubhaloPos ## posicion en x,y,z ckp/h\n"
   ]
  },
  {
   "cell_type": "code",
   "execution_count": 9,
   "metadata": {},
   "outputs": [
    {
     "name": "stdout",
     "output_type": "stream",
     "text": [
      "104841\n",
      "21\n"
     ]
    }
   ],
   "source": [
    "print(len(Mass_halo))\n",
    "print(len(Mass_bh))\n",
    "\n",
    "#print(vel_halo)\n",
    "#print(len(vel_dis_halo))\n"
   ]
  },
  {
   "cell_type": "code",
   "execution_count": 10,
   "metadata": {},
   "outputs": [
    {
     "data": {
      "image/png": "[encoded data removed]",
      "text/plain": [
       "<matplotlib.figure.Figure at 0x7fa71d8f4630>"
      ]
     },
     "metadata": {},
     "output_type": "display_data"
    }
   ],
   "source": [
    "\"\"\"\n",
    "Histograma de masa de los halos\n",
    "\"\"\"\n",
    "Bines=np.int(np.sqrt(len(Mass_halo)))\n",
    "#hist_Mass_halo=np.histogram(np.log10(Mass_halo), bins=17)\n",
    "plt.figure()\n",
    "plt.hist(np.log10(Mass_halo), log=True)\n",
    "plt.xlim(9,14)\n",
    "plt.title(\"histograma\")\n",
    "plt.xlabel(\"$\\log_{10}(Mass_{halo})[M_{\\odot}]$\")\n",
    "plt.savefig(\"histo_Mass_halo.png\")\n",
    "\n"
   ]
  },
  {
   "cell_type": "code",
   "execution_count": 11,
   "metadata": {},
   "outputs": [
    {
     "data": {
      "text/plain": [
       "'\\nplt.figure()\\nplt.plot(np.log10(vel_halo[:,0]),np.log10(Mass_halo),\".\") ###velocidad en la direcion en X\\nplt.xlabel(\"$\\\\log(vel_{halo})[km/s]$\")\\nplt.ylabel(\"$\\\\log_{10}(Mass_{halo})[Mass_{\\\\odot}]$\")\\nplt.savefig(\\'vel_VS_mass_Halo.png\\')\\n'"
      ]
     },
     "execution_count": 11,
     "metadata": {},
     "output_type": "execute_result"
    },
    {
     "data": {
      "image/png": "[encoded data removed]",
      "text/plain": [
       "<matplotlib.figure.Figure at 0x7fa71d8b95c0>"
      ]
     },
     "metadata": {},
     "output_type": "display_data"
    },
    {
     "data": {
      "image/png": "[encoded data removed]",
      "text/plain": [
       "<matplotlib.figure.Figure at 0x7fa71d45c240>"
      ]
     },
     "metadata": {},
     "output_type": "display_data"
    }
   ],
   "source": [
    "\"\"\"\n",
    "GRAFICAS DE VERIFIVACION\n",
    "    --> En esta parte del codigo se pretende\n",
    "        verificar si los datos y los calculos \n",
    "        son congruentes.\n",
    "\"\"\"\n",
    "#fig, (ax1, ax2, ax3) = plt.subplots(ncols=3 ,figsize=(19, 5))\n",
    "\n",
    "\"\"\"\n",
    "ax1.plot(np.log10(vel_max_halo),np.log10(Mass_halo),\".\")\n",
    "ax1.set_xlabel(\"$Vel_{max,halo}[km/s]$\")\n",
    "ax1.set_ylabel(\"$\\log_{10}(Mass_{halo})[Mass_{\\odot}]$\")\n",
    "plt.savefig('vel_max_VS_mass_Halo.png')\n",
    "\n",
    "ax2.plot(np.log10(vel_dis_halo),np.log10(Mass_halo),\".\")\n",
    "ax2.set_xlabel(\"$\\log(\\sigma_{halo})[km/s]$\")\n",
    "ax2.set_ylabel(\"$\\log_{10}(Mass_{halo})[Mass_{\\odot}]$\")\n",
    "plt.savefig('vel_dis_VS_mass_Halo.png')\n",
    "\n",
    "ax3.plot(np.log10(np.abs(vel_halo)),np.log10(Mass_halo),\".\")\n",
    "ax3.set_xlabel(\"$\\log(vel_{halo})[km/s]$\")\n",
    "ax3.set_ylabel(\"$\\log_{10}(Mass_{halo})[Mass_{\\odot}]$\")\n",
    "plt.savefig('vel_VS_mass_Halo.png')\n",
    "\"\"\"\n",
    "\n",
    "plt.figure()\n",
    "plt.plot(np.log10(vel_max_halo),np.log10(Mass_halo),\".\")\n",
    "plt.xlabel(\"$Vel_{max,halo}[km/s]$\")\n",
    "plt.ylabel(\"$\\log_{10}(Mass_{halo})[Mass_{\\odot}]$\")\n",
    "plt.savefig('vel_max_VS_mass_Halo.png')\n",
    "\n",
    "plt.figure()\n",
    "plt.plot(np.log10(vel_dis_halo),np.log10(Mass_halo),\".\")\n",
    "plt.xlabel(\"$\\log(\\sigma_{halo})[km/s]$\")\n",
    "plt.ylabel(\"$\\log_{10}(Mass_{halo})[Mass_{\\odot}]$\")\n",
    "plt.savefig('vel_dis_VS_mass_Halo.png')\n",
    "\n",
    "\"\"\"\n",
    "plt.figure()\n",
    "plt.plot(np.log10(vel_halo[:,0]),np.log10(Mass_halo),\".\") ###velocidad en la direcion en X\n",
    "plt.xlabel(\"$\\log(vel_{halo})[km/s]$\")\n",
    "plt.ylabel(\"$\\log_{10}(Mass_{halo})[Mass_{\\odot}]$\")\n",
    "plt.savefig('vel_VS_mass_Halo.png')\n",
    "\"\"\"\n",
    "\n"
   ]
  },
  {
   "cell_type": "code",
   "execution_count": 12,
   "metadata": {},
   "outputs": [
    {
     "name": "stdout",
     "output_type": "stream",
     "text": [
      "Reading eigenvector file\n",
      "64 64 64 262144 195.3125 390.625 390.625\n",
      "--------------------\n",
      "\n"
     ]
    }
   ],
   "source": [
    "#Cargar los datos para \n",
    "\n",
    "\"\"\"\n",
    "======================\n",
    "Lectura de Datos \n",
    "\n",
    "    ---> EigenVectores\n",
    "======================\n",
    "\"\"\"\n",
    "\n",
    "## Dirección archivos ##\n",
    "#Direction_eigenvector='../Bolshoi/Eigenvec_s1_1'\n",
    "#Direction_eigenvalor='../Bolshoi/Eigen_s1_1'\n",
    "\n",
    "\n",
    "folder = '/home/daniel/Documentos/Tesis/Data/Tweb_512/'\n",
    "file = 'snap_015.s1.00.eigenvec_2'\n",
    "\n",
    "print(\"Reading eigenvector file\")\n",
    "f = open(\"%s%s\"%(folder,file), \"rb\")\n",
    "#f = open(\"../Bolshoi/Eigenvec_s1_1\", \"rb\")\n",
    "dumb = f.read(38)\n",
    "\n",
    "dumb = f.read(4)\n",
    "n_x = f.read(4)\n",
    "n_y = f.read(4)\n",
    "n_z = f.read(4)\n",
    "nodes = f.read(4)\n",
    "x0 = f.read(4)\n",
    "y0 = f.read(4)\n",
    "z0 = f.read(4)\n",
    "dx = f.read(4)\n",
    "dy = f.read(4)\n",
    "dz = f.read(4)\n",
    "dumb = f.read(4)\n",
    "\n",
    "n_x = (unpack('i', n_x))[0]\n",
    "n_y = (unpack('i', n_y))[0]\n",
    "n_z = (unpack('i', n_z))[0]\n",
    "nodes = (unpack('i', nodes))[0]\n",
    "dx = (unpack('f', dx))[0]\n",
    "dy = (unpack('f', dy))[0]\n",
    "dz = (unpack('f', dz))[0]\n",
    "x0 = (unpack('f', x0))[0]\n",
    "y0 = (unpack('f', y0))[0]\n",
    "z0 = (unpack('f', z0))[0]\n",
    "print(n_x, n_y, n_z, nodes, dx, dy, dz)\n",
    "\n",
    "total_nodes = 3 * n_x * n_y *n_z\n",
    "dumb = f.read(4)\n",
    "array_data = f.read(total_nodes*4)\n",
    "dumb = f.read(4)\n",
    "format_s = str(total_nodes)+'f'\n",
    "array_data = unpack(format_s, array_data)\n",
    "f.close()\n",
    "array_data  = np.array(array_data)\n",
    "new_array_data = np.reshape(array_data, (3,n_x,n_y,n_z), order='F')\n",
    "print(\"--------------------\\n\")\n",
    "\n",
    "#print(new_array_data[:,0,0,0])\n"
   ]
  },
  {
   "cell_type": "code",
   "execution_count": 13,
   "metadata": {
    "collapsed": true
   },
   "outputs": [],
   "source": [
    "###calcular los autovelores para los radios respectivos\n",
    "\n",
    "#r=[]\n",
    "#eigen_vec_r=[]\n",
    "def Eigen_vec(r):\n",
    "    \"\"\"\n",
    "    Esta funcion retorna el valor del auntoVector \n",
    "    correspondiente a las coordenadas r(x,y,z)\n",
    "    \"\"\"\n",
    "        \n",
    "    long_box= 25e3 #longitud caja\n",
    "    \n",
    "    dl = n_x/long_box #tamaño de cada celda = numero_celdas/long_caja\n",
    "    \n",
    "    i=np.int(r[0]*dl)\n",
    "    j=np.int(r[1]*dl)\n",
    "    k=np.int(r[2]*dl)\n",
    "    \n",
    "   \n",
    "    \n",
    "\n",
    "    \"\"\"\n",
    "    eigen_vec_r =np.array([new_array_data[0,i,j,k],\\\n",
    "                            new_array_data[1,i,j,k],\\\n",
    "                            new_array_data[2,i,j,k]])\n",
    "    \"\"\"\n",
    "    \n",
    "    eigen_vec_r = [new_array_data[0,i,j,k],\\\n",
    "                            new_array_data[1,i,j,k],\\\n",
    "                            new_array_data[2,i,j,k]]\n",
    "\n",
    "   \n",
    "    \n",
    "    #return r[0],r[1],r[2]\n",
    "    return eigen_vec_r\n"
   ]
  },
  {
   "cell_type": "code",
   "execution_count": 14,
   "metadata": {},
   "outputs": [
    {
     "name": "stdout",
     "output_type": "stream",
     "text": [
      "[0.76648670434951782, 0.61214369535446167, 0.13041894137859344]\n"
     ]
    }
   ],
   "source": [
    "print(Eigen_vec(r_bh[5]))"
   ]
  },
  {
   "cell_type": "code",
   "execution_count": 15,
   "metadata": {},
   "outputs": [
    {
     "data": {
      "text/plain": [
       "'\\nfor i in range(len(r_halo)):\\n    \\n    EigenVec_halo.append(Eigen_vec(r_halo[i]))\\n    Mag_EigenVec_halo.append(np.linalg.norm(EigenVec_halo[i])) ##magnitud del autovector\\n    Mag_Spin_halo.append(np.linalg.norm(spin_halo[i]))       ##magnitud del Spin_bh\\n    Dot_halo.append(np.vdot(EigenVec_halo[i],spin_halo[i]))      ##Productopunto del autovec y spin_bh\\n    cos_theta_halo.append(Dot_halo[i]/(Mag_EigenVec_halo[i]*Mag_Spin_halo[i])) \\n'"
      ]
     },
     "execution_count": 15,
     "metadata": {},
     "output_type": "execute_result"
    }
   ],
   "source": [
    "## asignacion de autovectores con su radio respectivo\n",
    "\n",
    "Mag_EigenVec_bh=[]\n",
    "Mag_EigenVec_halo=[]\n",
    "Mag_Spin_bh=[]\n",
    "Mag_Spin_halo=[]\n",
    "Dot_bh=[]\n",
    "Dot_halo=[]\n",
    "EigenVec_bh=[]\n",
    "EigenVec_halo=[]\n",
    "cos_theta_bh=[]\n",
    "cos_theta_halo=[]\n",
    "\n",
    "for i in range(len(r_bh)):\n",
    "    \n",
    "    #Enviroment=np.append(Enviroment,[Eigen_vec(r_bh[i])])\n",
    "    #New_enviroment=reshape(Enviroment,(1,n_x))\n",
    "    EigenVec_bh.append(Eigen_vec(r_bh[i]))\n",
    "        \n",
    "    Mag_EigenVec_bh.append(np.linalg.norm(EigenVec_bh[i])) ##magnitud del autovector\n",
    "    \n",
    "    Mag_Spin_bh.append(np.linalg.norm(Spin_bh[i]))       ##magnitud del Spin_bh\n",
    "        \n",
    "    Dot_bh.append(np.vdot(EigenVec_bh[i],Spin_bh[i]))      ##Productopunto del autovec y spin_bh\n",
    "        \n",
    "    cos_theta_bh.append(Dot_bh[i]/(Mag_EigenVec_bh[i]*Mag_Spin_bh[i])) \n",
    "    \n",
    "\"\"\"\n",
    "for i in range(len(r_halo)):\n",
    "    \n",
    "    EigenVec_halo.append(Eigen_vec(r_halo[i]))\n",
    "    Mag_EigenVec_halo.append(np.linalg.norm(EigenVec_halo[i])) ##magnitud del autovector\n",
    "    Mag_Spin_halo.append(np.linalg.norm(spin_halo[i]))       ##magnitud del Spin_bh\n",
    "    Dot_halo.append(np.vdot(EigenVec_halo[i],spin_halo[i]))      ##Productopunto del autovec y spin_bh\n",
    "    cos_theta_halo.append(Dot_halo[i]/(Mag_EigenVec_halo[i]*Mag_Spin_halo[i])) \n",
    "\"\"\"\n",
    "\n",
    "#print(Mag_Enviroment[0])    \n",
    "\n",
    "#print(\"cos(teta)\",cos_theta)"
   ]
  },
  {
   "cell_type": "code",
   "execution_count": 16,
   "metadata": {},
   "outputs": [
    {
     "data": {
      "text/plain": [
       "\"\\nplt.figure()\\nplt.plot(np.log10(Mass_halo),cos_theta_bh,'.')\\nplt.xlabel('$\\\\log_{10}(M_{bh})[M_{\\\\odot}]$')\\nplt.ylabel('$\\\\cos( \\\\Theta ) $')\\nplt.savefig('Alinacion_Enviroment_halo.png')\\n\""
      ]
     },
     "execution_count": 16,
     "metadata": {},
     "output_type": "execute_result"
    },
    {
     "data": {
      "image/png": "[encoded data removed]",
      "text/plain": [
       "<matplotlib.figure.Figure at 0x7fa7184bb208>"
      ]
     },
     "metadata": {},
     "output_type": "display_data"
    }
   ],
   "source": [
    "plt.figure()\n",
    "plt.plot(np.log10(Mass_bh),cos_theta_bh,'.')\n",
    "plt.xlabel('$\\log_{10}(M_{bh})[M_{\\odot}]$')\n",
    "plt.ylabel('$\\cos( \\Theta ) $')\n",
    "plt.savefig('Alinacion_Enviroment_bh.png')\n",
    "\"\"\"\n",
    "plt.figure()\n",
    "plt.plot(np.log10(Mass_halo),cos_theta_bh,'.')\n",
    "plt.xlabel('$\\log_{10}(M_{bh})[M_{\\odot}]$')\n",
    "plt.ylabel('$\\cos( \\Theta ) $')\n",
    "plt.savefig('Alinacion_Enviroment_halo.png')\n",
    "\"\"\""
   ]
  },
  {
   "cell_type": "code",
   "execution_count": 17,
   "metadata": {},
   "outputs": [
    {
     "name": "stdout",
     "output_type": "stream",
     "text": [
      "[[  631.28878196  7531.14490752  7167.51987284]\n",
      " [  663.85491272  7542.56652565  7138.94906246]\n",
      " [  690.30428576  7601.26662394  6818.69049836]\n",
      " [  425.63533352  7639.22267624  6806.7480046 ]\n",
      " [  906.20003826  7640.45772474  6935.2736818 ]\n",
      " [  646.87401608  6998.73256069  7394.17057261]\n",
      " [  993.93650611  8200.26887895  6837.61417368]\n",
      " [  484.42259957  7867.15041299  6365.62227952]\n",
      " [  281.81428513  7482.65211167  7506.03267541]\n",
      " [  744.4964462   8051.67639877  6365.48292827]\n",
      " [  406.18510836  7730.22179106  6751.77854405]\n",
      " [  638.52256114  8112.48247954  6252.38316511]\n",
      " [  201.31828569  8079.92652723  6059.52221224]\n",
      " [  653.51106685  7557.26593193  7018.22729886]\n",
      " [  628.24215653  7222.33181589  7523.21209613]\n",
      " [  538.3977704   8201.9072569   6213.72378394]\n",
      " [  534.99639846  7149.22314623  7463.37354229]\n",
      " [  478.91777964  7324.75959922  7289.44445413]\n",
      " [ 1083.81102254  7610.6963017   6916.38923702]\n",
      " [  598.79040757  7662.73409361  7020.10701189]\n",
      " [  553.96096948  7544.69554732  7023.72847532]]\n",
      "[[  631.15490723  7531.15039062  7167.41308594]\n",
      " [  653.53393555  7557.18798828  7018.20410156]\n",
      " [ 1037.22912598  7595.37646484  6942.59228516]\n",
      " [  628.2243042   7222.30615234  7523.26074219]\n",
      " [  538.28143311  8201.96679688  6213.83691406]\n",
      " [  783.35870361  7480.65234375  7246.38916016]\n",
      " [  745.43597412  8052.13134766  6365.78466797]\n",
      " [  535.06951904  7149.1328125   7463.26806641]\n",
      " [  478.91650391  7324.75195312  7289.52294922]\n",
      " [  620.55474854  7642.03271484  7087.28173828]\n",
      " [ 1083.95068359  7610.65576172  6916.36914062]\n",
      " [  993.95300293  8200.38378906  6837.61767578]\n",
      " [  655.16168213  7594.80615234  6923.10058594]\n",
      " [  406.14355469  7730.19970703  6751.74121094]\n",
      " [  598.84503174  7662.76513672  7020.13867188]\n",
      " [  553.80163574  7544.61279297  7023.67773438]\n",
      " [  636.00097656  7534.91015625  7146.56494141]\n",
      " [  484.42260742  7867.15039062  6365.62207031]\n",
      " [  906.30072021  7640.44335938  6935.19482422]\n",
      " [  664.11212158  7542.60693359  7138.92871094]\n",
      " [  458.13772583  7636.35205078  7303.78857422]]\n"
     ]
    }
   ],
   "source": [
    "print(r_bh)\n",
    "print(r_halo[:len(r_bh)])"
   ]
  },
  {
   "cell_type": "code",
   "execution_count": null,
   "metadata": {
    "collapsed": true
   },
   "outputs": [],
   "source": []
  },
  {
   "cell_type": "code",
   "execution_count": 40,
   "metadata": {},
   "outputs": [
    {
     "name": "stdout",
     "output_type": "stream",
     "text": [
      "0\n",
      "19\n",
      "25\n",
      "253\n",
      "18\n",
      "24\n",
      "11\n",
      "17\n",
      "37\n",
      "6\n",
      "13\n",
      "28\n",
      "32\n",
      "1\n",
      "3\n",
      "4\n",
      "7\n",
      "8\n",
      "10\n",
      "14\n",
      "15\n"
     ]
    },
    {
     "ename": "ValueError",
     "evalue": "cannot reshape array of size 21 into shape (21,3)",
     "output_type": "error",
     "traceback": [
      "\u001b[0;31m---------------------------------------------------------------------------\u001b[0m",
      "\u001b[0;31mAttributeError\u001b[0m                            Traceback (most recent call last)",
      "\u001b[0;32m/home/daniel/anaconda3/lib/python3.6/site-packages/numpy/core/fromnumeric.py\u001b[0m in \u001b[0;36m_wrapfunc\u001b[0;34m(obj, method, *args, **kwds)\u001b[0m\n\u001b[1;32m     56\u001b[0m     \u001b[0;32mtry\u001b[0m\u001b[0;34m:\u001b[0m\u001b[0;34m\u001b[0m\u001b[0m\n\u001b[0;32m---> 57\u001b[0;31m         \u001b[0;32mreturn\u001b[0m \u001b[0mgetattr\u001b[0m\u001b[0;34m(\u001b[0m\u001b[0mobj\u001b[0m\u001b[0;34m,\u001b[0m \u001b[0mmethod\u001b[0m\u001b[0;34m)\u001b[0m\u001b[0;34m(\u001b[0m\u001b[0;34m*\u001b[0m\u001b[0margs\u001b[0m\u001b[0;34m,\u001b[0m \u001b[0;34m**\u001b[0m\u001b[0mkwds\u001b[0m\u001b[0;34m)\u001b[0m\u001b[0;34m\u001b[0m\u001b[0m\n\u001b[0m\u001b[1;32m     58\u001b[0m \u001b[0;34m\u001b[0m\u001b[0m\n",
      "\u001b[0;31mAttributeError\u001b[0m: 'list' object has no attribute 'reshape'",
      "\nDuring handling of the above exception, another exception occurred:\n",
      "\u001b[0;31mValueError\u001b[0m                                Traceback (most recent call last)",
      "\u001b[0;32m<ipython-input-40-3c7447bde290>\u001b[0m in \u001b[0;36m<module>\u001b[0;34m()\u001b[0m\n\u001b[1;32m     74\u001b[0m     \u001b[0mr_halo_new\u001b[0m\u001b[0;34m.\u001b[0m\u001b[0mappend\u001b[0m\u001b[0;34m(\u001b[0m\u001b[0msub\u001b[0m\u001b[0;34m.\u001b[0m\u001b[0mSubhaloPos\u001b[0m\u001b[0;34m[\u001b[0m\u001b[0mid\u001b[0m\u001b[0;34m]\u001b[0m\u001b[0;34m)\u001b[0m \u001b[0;31m## posicion en x,y,z ckp/h\u001b[0m\u001b[0;34m\u001b[0m\u001b[0m\n\u001b[1;32m     75\u001b[0m \u001b[0;34m\u001b[0m\u001b[0m\n\u001b[0;32m---> 76\u001b[0;31m \u001b[0mMass_halo_new\u001b[0m\u001b[0;34m=\u001b[0m\u001b[0mnp\u001b[0m\u001b[0;34m.\u001b[0m\u001b[0mreshape\u001b[0m\u001b[0;34m(\u001b[0m\u001b[0mMass_halo_new\u001b[0m\u001b[0;34m,\u001b[0m\u001b[0;34m(\u001b[0m\u001b[0mlen\u001b[0m\u001b[0;34m(\u001b[0m\u001b[0mr_bh\u001b[0m\u001b[0;34m)\u001b[0m\u001b[0;34m,\u001b[0m\u001b[0;36m3\u001b[0m\u001b[0;34m)\u001b[0m\u001b[0;34m)\u001b[0m\u001b[0;34m\u001b[0m\u001b[0m\n\u001b[0m\u001b[1;32m     77\u001b[0m \u001b[0mr_halo_new\u001b[0m\u001b[0;34m=\u001b[0m\u001b[0mnp\u001b[0m\u001b[0;34m.\u001b[0m\u001b[0mreshape\u001b[0m\u001b[0;34m(\u001b[0m\u001b[0mr_halo_new\u001b[0m\u001b[0;34m,\u001b[0m\u001b[0;34m(\u001b[0m\u001b[0mlen\u001b[0m\u001b[0;34m(\u001b[0m\u001b[0mr_bh\u001b[0m\u001b[0;34m)\u001b[0m\u001b[0;34m,\u001b[0m\u001b[0;36m3\u001b[0m\u001b[0;34m)\u001b[0m\u001b[0;34m)\u001b[0m\u001b[0;34m\u001b[0m\u001b[0m\n\u001b[1;32m     78\u001b[0m \u001b[0mvel_dis_halo_new\u001b[0m\u001b[0;34m=\u001b[0m\u001b[0mnp\u001b[0m\u001b[0;34m.\u001b[0m\u001b[0mreshape\u001b[0m\u001b[0;34m(\u001b[0m\u001b[0mvel_dis_halo_new\u001b[0m\u001b[0;34m,\u001b[0m\u001b[0;34m(\u001b[0m\u001b[0mlen\u001b[0m\u001b[0;34m(\u001b[0m\u001b[0mr_bh\u001b[0m\u001b[0;34m)\u001b[0m\u001b[0;34m,\u001b[0m\u001b[0;36m3\u001b[0m\u001b[0;34m)\u001b[0m\u001b[0;34m)\u001b[0m\u001b[0;34m\u001b[0m\u001b[0m\n",
      "\u001b[0;32m/home/daniel/anaconda3/lib/python3.6/site-packages/numpy/core/fromnumeric.py\u001b[0m in \u001b[0;36mreshape\u001b[0;34m(a, newshape, order)\u001b[0m\n\u001b[1;32m    230\u001b[0m            [5, 6]])\n\u001b[1;32m    231\u001b[0m     \"\"\"\n\u001b[0;32m--> 232\u001b[0;31m     \u001b[0;32mreturn\u001b[0m \u001b[0m_wrapfunc\u001b[0m\u001b[0;34m(\u001b[0m\u001b[0ma\u001b[0m\u001b[0;34m,\u001b[0m \u001b[0;34m'reshape'\u001b[0m\u001b[0;34m,\u001b[0m \u001b[0mnewshape\u001b[0m\u001b[0;34m,\u001b[0m \u001b[0morder\u001b[0m\u001b[0;34m=\u001b[0m\u001b[0morder\u001b[0m\u001b[0;34m)\u001b[0m\u001b[0;34m\u001b[0m\u001b[0m\n\u001b[0m\u001b[1;32m    233\u001b[0m \u001b[0;34m\u001b[0m\u001b[0m\n\u001b[1;32m    234\u001b[0m \u001b[0;34m\u001b[0m\u001b[0m\n",
      "\u001b[0;32m/home/daniel/anaconda3/lib/python3.6/site-packages/numpy/core/fromnumeric.py\u001b[0m in \u001b[0;36m_wrapfunc\u001b[0;34m(obj, method, *args, **kwds)\u001b[0m\n\u001b[1;32m     65\u001b[0m     \u001b[0;31m# a downstream library like 'pandas'.\u001b[0m\u001b[0;34m\u001b[0m\u001b[0;34m\u001b[0m\u001b[0m\n\u001b[1;32m     66\u001b[0m     \u001b[0;32mexcept\u001b[0m \u001b[0;34m(\u001b[0m\u001b[0mAttributeError\u001b[0m\u001b[0;34m,\u001b[0m \u001b[0mTypeError\u001b[0m\u001b[0;34m)\u001b[0m\u001b[0;34m:\u001b[0m\u001b[0;34m\u001b[0m\u001b[0m\n\u001b[0;32m---> 67\u001b[0;31m         \u001b[0;32mreturn\u001b[0m \u001b[0m_wrapit\u001b[0m\u001b[0;34m(\u001b[0m\u001b[0mobj\u001b[0m\u001b[0;34m,\u001b[0m \u001b[0mmethod\u001b[0m\u001b[0;34m,\u001b[0m \u001b[0;34m*\u001b[0m\u001b[0margs\u001b[0m\u001b[0;34m,\u001b[0m \u001b[0;34m**\u001b[0m\u001b[0mkwds\u001b[0m\u001b[0;34m)\u001b[0m\u001b[0;34m\u001b[0m\u001b[0m\n\u001b[0m\u001b[1;32m     68\u001b[0m \u001b[0;34m\u001b[0m\u001b[0m\n\u001b[1;32m     69\u001b[0m \u001b[0;34m\u001b[0m\u001b[0m\n",
      "\u001b[0;32m/home/daniel/anaconda3/lib/python3.6/site-packages/numpy/core/fromnumeric.py\u001b[0m in \u001b[0;36m_wrapit\u001b[0;34m(obj, method, *args, **kwds)\u001b[0m\n\u001b[1;32m     45\u001b[0m     \u001b[0;32mexcept\u001b[0m \u001b[0mAttributeError\u001b[0m\u001b[0;34m:\u001b[0m\u001b[0;34m\u001b[0m\u001b[0m\n\u001b[1;32m     46\u001b[0m         \u001b[0mwrap\u001b[0m \u001b[0;34m=\u001b[0m \u001b[0;32mNone\u001b[0m\u001b[0;34m\u001b[0m\u001b[0m\n\u001b[0;32m---> 47\u001b[0;31m     \u001b[0mresult\u001b[0m \u001b[0;34m=\u001b[0m \u001b[0mgetattr\u001b[0m\u001b[0;34m(\u001b[0m\u001b[0masarray\u001b[0m\u001b[0;34m(\u001b[0m\u001b[0mobj\u001b[0m\u001b[0;34m)\u001b[0m\u001b[0;34m,\u001b[0m \u001b[0mmethod\u001b[0m\u001b[0;34m)\u001b[0m\u001b[0;34m(\u001b[0m\u001b[0;34m*\u001b[0m\u001b[0margs\u001b[0m\u001b[0;34m,\u001b[0m \u001b[0;34m**\u001b[0m\u001b[0mkwds\u001b[0m\u001b[0;34m)\u001b[0m\u001b[0;34m\u001b[0m\u001b[0m\n\u001b[0m\u001b[1;32m     48\u001b[0m     \u001b[0;32mif\u001b[0m \u001b[0mwrap\u001b[0m\u001b[0;34m:\u001b[0m\u001b[0;34m\u001b[0m\u001b[0m\n\u001b[1;32m     49\u001b[0m         \u001b[0;32mif\u001b[0m \u001b[0;32mnot\u001b[0m \u001b[0misinstance\u001b[0m\u001b[0;34m(\u001b[0m\u001b[0mresult\u001b[0m\u001b[0;34m,\u001b[0m \u001b[0mmu\u001b[0m\u001b[0;34m.\u001b[0m\u001b[0mndarray\u001b[0m\u001b[0;34m)\u001b[0m\u001b[0;34m:\u001b[0m\u001b[0;34m\u001b[0m\u001b[0m\n",
      "\u001b[0;31mValueError\u001b[0m: cannot reshape array of size 21 into shape (21,3)"
     ]
    }
   ],
   "source": [
    "R=[]\n",
    "Rmin=[]\n",
    "rmin=[]\n",
    "\n",
    "\"\"\"\n",
    "for i in range(len(r_bh)):\n",
    "    r_min=r_bh[0]-r_halo[i]\n",
    "    for j in range(1,len(r_halo)):\n",
    "        dist = r_bh[i]-r_halo[j]\n",
    "        if (dist <= r_min):\n",
    "            Mass_halo = sub.SubhaloMass*10e10/0.7 \n",
    "\"\"\"\n",
    "    \n",
    "kk=0    \n",
    "d_halo= []\n",
    "d_bh = []\n",
    "\n",
    "\n",
    "for i in range(len(r_bh)):\n",
    "    x2_bh =r_bh[i][0]*r_bh[i][0]\n",
    "    y2_bh=r_bh[i][1]*r_bh[i][1]\n",
    "    z2_bh=r_bh[i][2]*r_bh[i][2]\n",
    "    x_bh =r_bh[i][0]\n",
    "    y_bh =r_bh[i][1]\n",
    "    z_bh =r_bh[i][2]\n",
    "    \n",
    "    \n",
    "    d_bh.append(np.sqrt(x2_bh + y2_bh + z2_bh)) #distancia para cada bh\n",
    "\n",
    "\n",
    "    \n",
    "for i in range(len(r_halo)):\n",
    "    x2_halo =r_halo[i][0]*r_halo[i][0]\n",
    "    y2_halo=r_halo[i][1]*r_halo[i][1]\n",
    "    z2_halo=r_halo[i][2]*r_halo[i][2]\n",
    "    x_halo =r_halo[i][0]\n",
    "    y_halo =r_halo[i][1]\n",
    "    z_halo =r_halo[i][2]\n",
    "    #print(x2_halo)    \n",
    "    \n",
    "    d_halo.append(np.sqrt(x2_halo + y2_halo + z2_halo)) #distancia para cada halo\n",
    "#print(d_halo)\n",
    "\n",
    "Mass_halo_new = []\n",
    "vel_dis_halo_new = [] ##km/s \n",
    "vel_max_halo_new =[]\n",
    "spin_halo_new=[]\n",
    "r_halo_new = []\n",
    "    \n",
    "\n",
    "    \n",
    "for k in range(len(r_bh)):\n",
    "    R=[]\n",
    "    \n",
    "    x_bh =r_bh[k][0]\n",
    "    y_bh =r_bh[k][1]\n",
    "    z_bh =r_bh[k][2]\n",
    "    \n",
    "    for j in range(len(r_halo)):\n",
    "        x_halo =r_halo[j][0]\n",
    "        y_halo =r_halo[j][1]\n",
    "        z_halo =r_halo[j][2]\n",
    "        \n",
    "        #R.append(np.abs(d_bh[k]-d_halo[j]))\n",
    "        R.append(np.sqrt((x_bh-x_halo)**2 + (y_bh-y_halo)**2 +(z_bh-z_halo)**2))\n",
    "        \n",
    "    id=np.argmin(R)\n",
    "    print(id)\n",
    "    \n",
    "    Mass_halo_new.append(sub.SubhaloMass[id])\n",
    "    vel_dis_halo_new.append(sub.SubhaloVelDisp[id]) ##km/s \n",
    "    vel_max_halo_new.append(sub.SubhaloVmax[id])  ##km/s \n",
    "    spin_halo_new.append(sub.SubhaloSpin[id]) ##ckpc/h\n",
    "    r_halo_new.append(sub.SubhaloPos[id]) ## posicion en x,y,z ckp/h\n",
    "\n",
    "Mass_halo_new=np.reshape(Mass_halo_new,(len(r_bh),3))\n",
    "r_halo_new=np.reshape(r_halo_new,(len(r_bh),3))\n",
    "vel_dis_halo_new=np.reshape(vel_dis_halo_new,(len(r_bh),3))\n",
    "vel_max_halo_new=np.reshape(vel_max_halo_new,(len(r_bh),3))\n",
    "spin_halo_new=np.reshape(spin_halo_new,(len(r_bh),3))\n",
    "\n",
    "print(\"------------\")\n",
    "print(len(R))\n",
    "print(len(Mass_halo))\n",
    "print(\"------------\")\n",
    "#print(r_bh)\n",
    "#print(r_halo_new)\n",
    "\n"
   ]
  },
  {
   "cell_type": "code",
   "execution_count": 21,
   "metadata": {},
   "outputs": [
    {
     "name": "stdout",
     "output_type": "stream",
     "text": [
      "[  631.28878196   663.85491272   690.30428576   425.63533352   906.20003826\n",
      "   646.87401608   993.93650611   484.42259957   281.81428513   744.4964462\n",
      "   406.18510836   638.52256114   201.31828569   653.51106685   628.24215653\n",
      "   538.3977704    534.99639846   478.91777964  1083.81102254   598.79040757\n",
      "   553.96096948]\n",
      "[  631.15490723   664.11212158   690.23376465   408.28833008   906.30072021\n",
      "   646.8369751    993.95300293   484.42260742   281.6925354    745.43597412\n",
      "   406.14355469   638.56842041   200.93222046   653.53393555   628.2243042\n",
      "   538.28143311   535.06951904   478.91650391  1083.95068359   598.84503174\n",
      "   553.80163574]\n"
     ]
    }
   ],
   "source": [
    "print(r_bh[:,0])\n",
    "print(r_halo_new[:,0])\n",
    "#print(r_halo)"
   ]
  },
  {
   "cell_type": "code",
   "execution_count": 39,
   "metadata": {},
   "outputs": [
    {
     "data": {
      "image/png": "[encoded data removed]",
      "text/plain": [
       "<matplotlib.figure.Figure at 0x7fa712322e10>"
      ]
     },
     "metadata": {},
     "output_type": "display_data"
    }
   ],
   "source": [
    "from mpl_toolkits.mplot3d import Axes3D\n",
    "\n",
    "fig = pyplot.figure()\n",
    "ax = Axes3D(fig)\n",
    "\n",
    "ax.scatter(r_bh[:,0], r_bh[:,1], r_bh[:,2],  label=\"bh\")\n",
    "ax.scatter(r_halo_new[:,0], r_halo_new[:,1], r_halo_new[:,2], label=\"halo\")\n",
    "ax.legend()\n",
    "ax.view_init(elev=15., azim=180)\n",
    "plt.savefig(\"kk\")\n"
   ]
  },
  {
   "cell_type": "code",
   "execution_count": null,
   "metadata": {
    "collapsed": true
   },
   "outputs": [],
   "source": [
    "\"\"\"\n",
    "\"\"\"\n",
    "HALOS\n",
    "\"\"\"\n",
    "size_data = len(Mass_bh)  ##tamano de los datos\n",
    "\n",
    "Mass_halo= sub.SubhaloMass[:size_data]*10e10/0.7 \n",
    "vel_dis_halo = sub.SubhaloVelDisp[:size_data] ##km/s \n",
    "vel_max_halo = sub.SubhaloVmax[:size_data]  ##km/s \n",
    "spin_halo=sub.SubhaloSpin[:size_data] ##ckpc/h\n",
    "r_halo = sub.SubhaloPos[:size_data] ## posicion en x,y,z ckp/h\n",
    "\"\"\""
   ]
  },
  {
   "cell_type": "code",
   "execution_count": null,
   "metadata": {
    "collapsed": true
   },
   "outputs": [],
   "source": [
    "#r_halo_new=np.reshape(r_halo,(len(r_bh),3))\n",
    "\n"
   ]
  },
  {
   "cell_type": "code",
   "execution_count": null,
   "metadata": {},
   "outputs": [],
   "source": [
    "\"\"\"\n",
    "from mpl_toolkits.mplot3d import Axes3D\n",
    "\n",
    "fig = pyplot.figure()\n",
    "ax = Axes3D(fig)\n",
    "\n",
    "ax.scatter(r_bh[:,0], r_bh[:,1], r_bh[:,2])\n",
    "ax.scatter(r_halo[:,0], r_halo[:,1], r_halo[:,2])\n",
    "ax.view_init(elev=90., azim=None)\n",
    "\"\"\"\n"
   ]
  },
  {
   "cell_type": "code",
   "execution_count": 35,
   "metadata": {
    "collapsed": true
   },
   "outputs": [],
   "source": [
    "scatter?"
   ]
  },
  {
   "cell_type": "code",
   "execution_count": null,
   "metadata": {
    "collapsed": true
   },
   "outputs": [],
   "source": []
  }
 ],
 "metadata": {
  "kernelspec": {
   "display_name": "Python 3",
   "language": "python",
   "name": "python3"
  },
  "language_info": {
   "codemirror_mode": {
    "name": "ipython",
    "version": 3
   },
   "file_extension": ".py",
   "mimetype": "text/x-python",
   "name": "python",
   "nbconvert_exporter": "python",
   "pygments_lexer": "ipython3",
   "version": "3.6.1"
  }
 },
 "nbformat": 4,
 "nbformat_minor": 2
}
