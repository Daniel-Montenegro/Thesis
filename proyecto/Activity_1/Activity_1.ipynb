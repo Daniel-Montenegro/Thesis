{
 "cells": [
  {
   "cell_type": "markdown",
   "metadata": {},
   "source": [
    "En este código se pretende calcular el angulo $\\theta$, que corresponde al ángulo entre el momento angular del disco $\\bf{\\vec{J_{d}}}$ y el momentum angular del Agujero negro $\\bf{\\vec{J_{bh}}}$. Se pretende determinar la posible relación del $\\cos(\\theta)$ con la masa del halo $M_{halo}$ y la masa del agujero negro $M_{bh}$.\n"
   ]
  },
  {
   "cell_type": "code",
   "execution_count": 1,
   "metadata": {},
   "outputs": [
    {
     "name": "stdout",
     "output_type": "stream",
     "text": [
      "Populating the interactive namespace from numpy and matplotlib\n"
     ]
    },
    {
     "name": "stderr",
     "output_type": "stream",
     "text": [
      "/home/daniel/.local/lib/python3.6/site-packages/gadget-0.1-py3.6-linux-x86_64.egg/gadget/const.py:20: UserWarning: Could not setup constants\n",
      "  warnings.warn(\"Could not setup constants\")\n"
     ]
    }
   ],
   "source": [
    "#librerías\n",
    "import numpy as np\n",
    "from scipy.optimize import curve_fit\n",
    "from scipy import stats\n",
    "import matplotlib.pyplot as plt\n",
    "import gadget \n",
    "import arepo\n",
    "\n",
    "\"\"\"\n",
    "===================================\n",
    "    ->Lectura de los autovectores\n",
    "\"\"\"\n",
    "\n",
    "from struct import *\n",
    "import sys\n",
    "import os\n",
    "\n",
    "\n",
    "%pylab inline"
   ]
  },
  {
   "cell_type": "code",
   "execution_count": 2,
   "metadata": {
    "collapsed": true
   },
   "outputs": [],
   "source": [
    "\n",
    "\n",
    "#DataFolder= '../../Data/groups_015/'\n",
    "#SnapNumber= 1\n",
    "\n",
    "#sub = arepo.Subfind('%s/'%(DataFolder), SnapNumber ,combineFiles=True)\n",
    "#sub = arepo.Subfind('../../Data/groups_015/fof_subhalo_tab_015.0.hdf5' ,combineFiles=True)"
   ]
  },
  {
   "cell_type": "code",
   "execution_count": 3,
   "metadata": {
    "collapsed": true
   },
   "outputs": [],
   "source": [
    "#Mass_halo= sub.SubhaloMass*10e10/0.7 \n",
    "#Masa_bh= sub.SubhaloBHMass*10e10/0.7\n",
    "\n",
    "\n",
    "#Spin_disk = sub.SubhaloSpin\n",
    "\n"
   ]
  },
  {
   "cell_type": "code",
   "execution_count": 4,
   "metadata": {},
   "outputs": [],
   "source": [
    "#print(len(Mass_halo))\n",
    "#print(len(Masa_bh))\n",
    "#print(len(Spin_disk))"
   ]
  },
  {
   "cell_type": "code",
   "execution_count": null,
   "metadata": {
    "collapsed": true
   },
   "outputs": [],
   "source": []
  },
  {
   "cell_type": "code",
   "execution_count": 5,
   "metadata": {
    "collapsed": true
   },
   "outputs": [],
   "source": [
    "Sn_bh = gadget.Snapshot('../../Data/snap_015.0.hdf5', parttype=[5])\n"
   ]
  },
  {
   "cell_type": "code",
   "execution_count": 30,
   "metadata": {
    "collapsed": true
   },
   "outputs": [],
   "source": [
    "\n",
    "Spin_bh=Sn_bh.BH_SpinOrientation #Spin de los black hole\n",
    "r_bh = Sn_bh.Coordinates  # cordanada en x,y,z\n",
    "Mass_bh = Sn_bh.BH_Mass*10e10/0.7\n",
    "Mass_halo = Sn_bh.Masses"
   ]
  },
  {
   "cell_type": "code",
   "execution_count": null,
   "metadata": {},
   "outputs": [],
   "source": []
  },
  {
   "cell_type": "code",
   "execution_count": 23,
   "metadata": {
    "collapsed": true
   },
   "outputs": [],
   "source": [
    "#print(r[0])\n",
    "#print(r_bh)\n",
    "#print(len(r_bh))"
   ]
  },
  {
   "cell_type": "code",
   "execution_count": 24,
   "metadata": {},
   "outputs": [
    {
     "name": "stdout",
     "output_type": "stream",
     "text": [
      "Reading eigenvector file\n",
      "64 64 64 262144 195.3125 390.625 390.625\n",
      "--------------------\n",
      "\n"
     ]
    }
   ],
   "source": [
    "#Cargar los datos para \n",
    "\n",
    "\"\"\"\n",
    "======================\n",
    "Lectura de Datos \n",
    "\n",
    "    ---> EigenVectores\n",
    "======================\n",
    "\"\"\"\n",
    "\n",
    "## Dirección archivos ##\n",
    "#Direction_eigenvector='../Bolshoi/Eigenvec_s1_1'\n",
    "#Direction_eigenvalor='../Bolshoi/Eigen_s1_1'\n",
    "\n",
    "\n",
    "folder = '/home/daniel/Documentos/Tesis/Data/Tweb_512/'\n",
    "file = 'snap_015.s1.00.eigenvec_1'\n",
    "\n",
    "print(\"Reading eigenvector file\")\n",
    "f = open(\"%s%s\"%(folder,file), \"rb\")\n",
    "#f = open(\"../Bolshoi/Eigenvec_s1_1\", \"rb\")\n",
    "dumb = f.read(38)\n",
    "\n",
    "dumb = f.read(4)\n",
    "n_x = f.read(4)\n",
    "n_y = f.read(4)\n",
    "n_z = f.read(4)\n",
    "nodes = f.read(4)\n",
    "x0 = f.read(4)\n",
    "y0 = f.read(4)\n",
    "z0 = f.read(4)\n",
    "dx = f.read(4)\n",
    "dy = f.read(4)\n",
    "dz = f.read(4)\n",
    "dumb = f.read(4)\n",
    "\n",
    "n_x = (unpack('i', n_x))[0]\n",
    "n_y = (unpack('i', n_y))[0]\n",
    "n_z = (unpack('i', n_z))[0]\n",
    "nodes = (unpack('i', nodes))[0]\n",
    "dx = (unpack('f', dx))[0]\n",
    "dy = (unpack('f', dy))[0]\n",
    "dz = (unpack('f', dz))[0]\n",
    "x0 = (unpack('f', x0))[0]\n",
    "y0 = (unpack('f', y0))[0]\n",
    "z0 = (unpack('f', z0))[0]\n",
    "print(n_x, n_y, n_z, nodes, dx, dy, dz)\n",
    "\n",
    "total_nodes = 3 * n_x * n_y *n_z\n",
    "dumb = f.read(4)\n",
    "array_data = f.read(total_nodes*4)\n",
    "dumb = f.read(4)\n",
    "format_s = str(total_nodes)+'f'\n",
    "array_data = unpack(format_s, array_data)\n",
    "f.close()\n",
    "array_data  = np.array(array_data)\n",
    "new_array_data = np.reshape(array_data, (3,n_x,n_y,n_z), order='F')\n",
    "print(\"--------------------\\n\")\n",
    "\n",
    "#print(new_array_data[:,0,0,0])\n"
   ]
  },
  {
   "cell_type": "code",
   "execution_count": 25,
   "metadata": {
    "collapsed": true
   },
   "outputs": [],
   "source": [
    "###calcular los autovelores para los radios respectivos\n",
    "\n",
    "#r=[]\n",
    "#eigen_vec_r=[]\n",
    "def Eigen_vec(r):\n",
    "    \"\"\"\n",
    "    Esta funcion retorna el valor del auntoVector \n",
    "    correspondiente a las coordenadas r(x,y,z)\n",
    "    \"\"\"\n",
    "        \n",
    "    long_box= 25e3 #longitud caja\n",
    "    \n",
    "    dl = n_x/long_box #tamaño de cada celda = numero_celdas/long_caja\n",
    "    \n",
    "    i=np.int(r[0]*dl)\n",
    "    j=np.int(r[1]*dl)\n",
    "    k=np.int(r[2]*dl)\n",
    "    \n",
    "   \n",
    "    \n",
    "\n",
    "    \"\"\"\n",
    "    eigen_vec_r =np.array([new_array_data[0,i,j,k],\\\n",
    "                            new_array_data[1,i,j,k],\\\n",
    "                            new_array_data[2,i,j,k]])\n",
    "    \"\"\"\n",
    "    \n",
    "    eigen_vec_r = [new_array_data[0,i,j,k],\\\n",
    "                            new_array_data[1,i,j,k],\\\n",
    "                            new_array_data[2,i,j,k]]\n",
    "\n",
    "   \n",
    "    \n",
    "    #return r[0],r[1],r[2]\n",
    "    return eigen_vec_r\n"
   ]
  },
  {
   "cell_type": "code",
   "execution_count": 26,
   "metadata": {},
   "outputs": [
    {
     "name": "stdout",
     "output_type": "stream",
     "text": [
      "[0.62367087602615356, -0.78894448280334473, 0.1672816276550293]\n"
     ]
    }
   ],
   "source": [
    "print(Eigen_vec(r_bh[5]))"
   ]
  },
  {
   "cell_type": "code",
   "execution_count": 27,
   "metadata": {},
   "outputs": [
    {
     "name": "stdout",
     "output_type": "stream",
     "text": [
      "[-0.73588053375433882, -0.87081739701952887, -0.85904618542715794, -0.075785808042858047, -0.20615157749193483, -0.66099808509433655, -0.41908061400982516, -0.66811019574875563, -0.67983009981102061, 0.59086178767465602, 0.43608656518085898, 0.90340880810655633, -0.065958853759430544, -0.89757629849309306, -0.70831665054668913, 0.17882368633347323, 0.66156652536971039, 0.47762926577366815, -0.28080669155708765, -0.89700230472225262, -0.088456553035687446]\n"
     ]
    }
   ],
   "source": [
    "## asignacion de autovectores con su radio respectivo\n",
    "\n",
    "Mag_EigenVec=[]\n",
    "Mag_Spin_bh=[]\n",
    "Dot=[]\n",
    "EigenVec=[]\n",
    "cos_theta=[]\n",
    "for i in range(len(r_bh)):\n",
    "    \n",
    "    #Enviroment=np.append(Enviroment,[Eigen_vec(r_bh[i])])\n",
    "    #New_enviroment=reshape(Enviroment,(1,n_x))\n",
    "    EigenVec.append(Eigen_vec(r_bh[i]))\n",
    "    \n",
    "    Mag_EigenVec.append(np.linalg.norm(EigenVec[i])) ##magnitud del autovector\n",
    "    Mag_Spin_bh.append(np.linalg.norm(Spin_bh[i]))       ##magnitud del Spin_bh\n",
    "    Dot.append(np.vdot(EigenVec[i],Spin_bh[i]))      ##Productopunto del autovec y spin_bh\n",
    "    cos_theta.append(Dot[i]/(Mag_EigenVec[i]*Mag_Spin_bh[i])) \n",
    "    \n",
    "\n",
    "#print(Mag_Enviroment[0])    \n",
    "\n",
    "print(cos_theta)"
   ]
  },
  {
   "cell_type": "code",
   "execution_count": 33,
   "metadata": {},
   "outputs": [
    {
     "data": {
      "image/png": "[encoded data removed]",
      "text/plain": [
       "<matplotlib.figure.Figure at 0x7fc5677c5c88>"
      ]
     },
     "metadata": {},
     "output_type": "display_data"
    }
   ],
   "source": [
    "plt.plot(np.log10(Mass_bh),cos_theta,'.')\n",
    "plt.show()"
   ]
  },
  {
   "cell_type": "code",
   "execution_count": null,
   "metadata": {
    "collapsed": true
   },
   "outputs": [],
   "source": []
  }
 ],
 "metadata": {
  "kernelspec": {
   "display_name": "Python 3",
   "language": "python",
   "name": "python3"
  },
  "language_info": {
   "codemirror_mode": {
    "name": "ipython",
    "version": 3
   },
   "file_extension": ".py",
   "mimetype": "text/x-python",
   "name": "python",
   "nbconvert_exporter": "python",
   "pygments_lexer": "ipython3",
   "version": "3.6.1"
  }
 },
 "nbformat": 4,
 "nbformat_minor": 2
}
