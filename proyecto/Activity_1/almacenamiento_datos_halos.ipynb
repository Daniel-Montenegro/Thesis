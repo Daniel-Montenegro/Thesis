{
 "cells": [
  {
   "cell_type": "code",
   "execution_count": 1,
   "metadata": {},
   "outputs": [
    {
     "name": "stdout",
     "output_type": "stream",
     "text": [
      "Populating the interactive namespace from numpy and matplotlib\n"
     ]
    },
    {
     "name": "stderr",
     "output_type": "stream",
     "text": [
      "/home/daniel/.local/lib/python3.6/site-packages/gadget-0.1-py3.6-linux-x86_64.egg/gadget/const.py:20: UserWarning: Could not setup constants\n",
      "  warnings.warn(\"Could not setup constants\")\n"
     ]
    }
   ],
   "source": [
    "#librerías\n",
    "import numpy as np\n",
    "from scipy import stats\n",
    "import matplotlib.pyplot as plt\n",
    "import gadget \n",
    "import arepo\n",
    "\n",
    "\n",
    "\"\"\"\n",
    "===================================\n",
    "    ->Lectura de los autovectores\n",
    "\"\"\"\n",
    "\n",
    "from struct import *\n",
    "import sys\n",
    "import os\n",
    "\n",
    "\n",
    "%pylab inline"
   ]
  },
  {
   "cell_type": "code",
   "execution_count": 2,
   "metadata": {
    "collapsed": true
   },
   "outputs": [],
   "source": [
    "Sn_bh = gadget.Snapshot('../../Data/snap_015.0.hdf5', parttype=[5])"
   ]
  },
  {
   "cell_type": "code",
   "execution_count": 4,
   "metadata": {},
   "outputs": [],
   "source": [
    "\"\"\"\n",
    "BLACK HOLES\n",
    "\"\"\"\n",
    "\n",
    "Spin_bh=Sn_bh.BH_SpinOrientation #Spin de los black hole\n",
    "r_bh = Sn_bh.Coordinates  # cordanada en x,y,z\n",
    "Mass_bh = Sn_bh.BH_Mass*10e10/0.7 ## M(sun)\n",
    "vel_disp_bh = Sn_bh.SubfindVelDisp  ##km/s\n",
    "#vel_bh = Sn_bh.Velocities ##km*sqrt(a)/s\n",
    "#Sn_bh.Coordinat"
   ]
  },
  {
   "cell_type": "code",
   "execution_count": 5,
   "metadata": {
    "collapsed": true
   },
   "outputs": [],
   "source": [
    "\"\"\"\n",
    "INFORMACION SOBRE LOS HALOS\n",
    "\"\"\"\n",
    "\n",
    "#DataFolder= '../../Data/groups_015/'\n",
    "#SnapNumber= 1\n",
    "\n",
    "#sub = arepo.Subfind('%s/'%(DataFolder), SnapNumber ,combineFiles=True)\n",
    "sub = gadget.Subfind('../../Data/groups_015/fof_subhalo_tab_015.0.hdf5' ,combineFiles=True)"
   ]
  },
  {
   "cell_type": "code",
   "execution_count": 17,
   "metadata": {},
   "outputs": [
    {
     "data": {
      "text/plain": [
       "array([ 631.05413818,  262.00567627,  210.04463196, ...,   11.41477013,\n",
       "         10.13532162,   14.56758022], dtype=float32)"
      ]
     },
     "execution_count": 17,
     "metadata": {},
     "output_type": "execute_result"
    }
   ],
   "source": [
    "\"\"\"\n",
    "HALOS\n",
    "\"\"\"\n",
    "size_data = len(Mass_bh)  ##tamano de los datos\n",
    "\n",
    "Mass_halo= sub.SubhaloMass*10e10/0.7 \n",
    "vel_dis_halo = sub.SubhaloVelDisp ##km/s \n",
    "vel_max_halo = sub.SubhaloVmax  ##km/s \n",
    "spin_halo=sub.SubhaloSpin ##ckpc/h\n",
    "r_halo = sub.SubhaloPos ## posicion en x,y,z\n",
    "vel_max_halo\n"
   ]
  },
  {
   "cell_type": "code",
   "execution_count": 19,
   "metadata": {},
   "outputs": [
    {
     "name": "stdout",
     "output_type": "stream",
     "text": [
      "21\n",
      "20\n",
      "19\n",
      "18\n",
      "17\n",
      "16\n",
      "15\n",
      "14\n",
      "13\n",
      "12\n",
      "11\n",
      "10\n",
      "9\n",
      "8\n",
      "7\n",
      "6\n",
      "5\n",
      "4\n",
      "3\n",
      "2\n",
      "1\n"
     ]
    }
   ],
   "source": [
    "Mass_halo_new = []\n",
    "vel_dis_halo_new = [] ##km/s \n",
    "vel_max_halo_new =[]\n",
    "spin_halo_new=[]\n",
    "r_halo_new = []\n",
    "    \n",
    "\n",
    "    \n",
    "for k in range(len(r_bh)):\n",
    "    R=[]\n",
    "    \n",
    "    x_bh =r_bh[k][0]\n",
    "    y_bh =r_bh[k][1]\n",
    "    z_bh =r_bh[k][2]\n",
    "    \n",
    "    for j in range(len(r_halo)):\n",
    "        x_halo =r_halo[j][0]\n",
    "        y_halo =r_halo[j][1]\n",
    "        z_halo =r_halo[j][2]\n",
    "        \n",
    "        #R.append(np.abs(d_bh[k]-d_halo[j]))\n",
    "        R.append(np.sqrt((x_bh-x_halo)**2 + (y_bh-y_halo)**2 +(z_bh-z_halo)**2))\n",
    "        \n",
    "    id=np.argmin(R)\n",
    "    #print(id)\n",
    "    print((len(r_bh)-k))\n",
    "    \n",
    "    Mass_halo_new.append(sub.SubhaloMass[id])\n",
    "    vel_dis_halo_new.append(sub.SubhaloVelDisp[id]) ##km/s \n",
    "    vel_max_halo_new.append(sub.SubhaloVmax[id])  ##km/s \n",
    "    spin_halo_new.append(sub.SubhaloSpin[id]) ##ckpc/h\n",
    "    r_halo_new.append(sub.SubhaloPos[id]) ## posicion en x,y,z ckp/h\n",
    "\n"
   ]
  },
  {
   "cell_type": "code",
   "execution_count": 76,
   "metadata": {},
   "outputs": [
    {
     "name": "stdout",
     "output_type": "stream",
     "text": [
      "------------\n",
      "104841\n",
      "104841\n",
      "------------\n",
      "[[  4.78233105e+03]\n",
      " [  2.79614377e+00]\n",
      " [  3.66299343e+00]\n",
      " [  2.14468658e-01]\n",
      " [  6.68896914e+00]\n",
      " [  5.69606972e+00]\n",
      " [  1.50682125e+01]\n",
      " [  1.01793947e+01]\n",
      " [  3.86426902e+00]\n",
      " [  2.11417637e+01]\n",
      " [  1.30979853e+01]\n",
      " [  4.16734886e+00]\n",
      " [  5.02123404e+00]\n",
      " [  4.49571495e+01]\n",
      " [  2.89321518e+01]\n",
      " [  2.98588371e+01]\n",
      " [  2.20494957e+01]\n",
      " [  1.86437225e+01]\n",
      " [  9.76381874e+00]\n",
      " [  5.63998556e+00]\n",
      " [  5.30425930e+00]]\n"
     ]
    }
   ],
   "source": [
    "Mass_halo_new=np.reshape(Mass_halo_new,(len(r_bh),1))\n",
    "r_halo_new=np.reshape(r_halo_new,(len(r_bh),3))\n",
    "vel_dis_halo_new=np.reshape(vel_dis_halo_new,(len(r_bh),1))\n",
    "vel_max_halo_new=np.reshape(vel_max_halo_new,(len(r_bh),1))\n",
    "spin_halo_new=np.reshape(spin_halo_new,(len(r_bh),3))\n",
    "\n",
    "print(\"------------\")\n",
    "print(len(R))\n",
    "print(len(Mass_halo))\n",
    "print(\"------------\")\n",
    "#print(r_bh)\n",
    "#print(r_halo_new)\n",
    "print(Mass_halo_new)"
   ]
  },
  {
   "cell_type": "code",
   "execution_count": 46,
   "metadata": {},
   "outputs": [],
   "source": [
    "##guardar datos\n",
    "#np.savetxt(\"halos_new.dat\",r_halo_new,newline=\"\\n\")\n",
    "#f = open(\"halo_new.tex\",'w')\n",
    "\n",
    "np.savetxt('Data_halo_new.txt',\n",
    "                   np.column_stack((Mass_halo_new, r_halo_new , vel_dis_halo_new, vel_max_halo_new,spin_halo_new)),\n",
    "                   header= '#',delimiter=\" \", comments=\"# Mass - r_halo(x,y,x) - vel_dis_halo - vel_max - spin_halo(i,j,k)\")\n",
    "    \n",
    "    \n",
    "    \n",
    "\n"
   ]
  },
  {
   "cell_type": "code",
   "execution_count": 50,
   "metadata": {},
   "outputs": [],
   "source": [
    "#halos_new_data\n",
    "Data_halo=loadtxt(\"Data_halo_new.txt\")"
   ]
  },
  {
   "cell_type": "code",
   "execution_count": 153,
   "metadata": {},
   "outputs": [],
   "source": [
    "Mass_halo_new2 = Data_halo[:,0]\n",
    "vel_dis_halo_new2 = Data_halo[:,4]\n",
    "vel_max_halo_new2 = Data_halo[:,5]\n",
    "\n",
    "#\n",
    "r_halo_new2=[]\n",
    "spin_halo_new2 =[]\n",
    "\n",
    "for i in range(len(Data_halo)):\n",
    "    #a =np. (Data_halo[:i,1])\n",
    "    #b =np.array_str(Data_halo[:i,2])\n",
    "    #c =np.array_str(Data_halo[:i,3])\n",
    "    #r_halo_new2.append(np.array([a, b, c])) ##km/s \n",
    "    r_halo_new2.append([Data_halo[i,1],Data_halo[i,2],Data_halo[i,3]]) ##km/s \n",
    "    spin_halo_new2.append([Data_halo[i,6],Data_halo[i,7],Data_halo[i,8]])\n",
    "    \n",
    "    \n",
    "r_halo_new2=np.reshape(r_halo_new2,(len(r_bh),3))\n",
    "spin_halo_new2=np.reshape(spin_halo_new2,(len(r_bh),3))\n",
    "\n"
   ]
  },
  {
   "cell_type": "code",
   "execution_count": null,
   "metadata": {
    "collapsed": true
   },
   "outputs": [],
   "source": []
  }
 ],
 "metadata": {
  "kernelspec": {
   "display_name": "Python 3",
   "language": "python",
   "name": "python3"
  },
  "language_info": {
   "codemirror_mode": {
    "name": "ipython",
    "version": 3
   },
   "file_extension": ".py",
   "mimetype": "text/x-python",
   "name": "python",
   "nbconvert_exporter": "python",
   "pygments_lexer": "ipython3",
   "version": "3.6.1"
  }
 },
 "nbformat": 4,
 "nbformat_minor": 2
}
