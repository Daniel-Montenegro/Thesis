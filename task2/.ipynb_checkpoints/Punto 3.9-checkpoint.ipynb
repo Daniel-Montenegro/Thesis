{
 "cells": [
  {
   "cell_type": "markdown",
   "metadata": {},
   "source": [
    "En este punto se va ha graficar los valores de q (deseleración) en funcion de z(redshift)"
   ]
  },
  {
   "cell_type": "code",
   "execution_count": 1,
   "metadata": {
    "collapsed": true
   },
   "outputs": [],
   "source": [
    "##Librerias\n",
    "import numpy as np\n",
    "import matplotlib.pyplot as plt\n"
   ]
  },
  {
   "cell_type": "code",
   "execution_count": 56,
   "metadata": {},
   "outputs": [
    {
     "data": {
      "image/png": "[encoded data removed]",
      "text/plain": [
       "<matplotlib.figure.Figure at 0x7f38eb9896d8>"
      ]
     },
     "metadata": {},
     "output_type": "display_data"
    },
    {
     "data": {
      "image/png": "[encoded data removed]",
      "text/plain": [
       "<matplotlib.figure.Figure at 0x7f38ebdabcf8>"
      ]
     },
     "metadata": {},
     "output_type": "display_data"
    }
   ],
   "source": [
    "Omega_lambda=0.734\n",
    "Omega_m=0.225\n",
    "Omega_r=9.4e-5\n",
    "Omega_0=Omega_lambda+Omega_m+Omega_r\n",
    "z_eq=3196\n",
    "\n",
    "\n",
    "q=[]\n",
    "zz=[]\n",
    "j=0\n",
    "\n",
    "\n",
    "q_eq=(Omega_0*(1+z_eq)**3-2*Omega_lambda) / (0.5*(Omega_lambda+ (1-Omega_0)*(1+z_eq)**2+ Omega_m*(1+z_eq)**3+ Omega_r*(1+z_eq)**2))\n",
    "#q_Lambda=\n",
    "\n",
    "for z in range(3500):\n",
    "    zz.append(z)\n",
    "    q.append((Omega_0*(1+z)**3-2*Omega_lambda) / (0.5*(Omega_lambda+ (1-Omega_0)*(1+z)**2+ Omega_m*(1+z)**3+ Omega_r*(1+z)**2)))\n",
    "    \n",
    "#print(zz)\n",
    "plt.plot(zz,q,'-',markersize=3,label='$q(z)$')\n",
    "plt.xlabel('z')\n",
    "plt.ylabel('q(z)')\n",
    "plt.legend(loc='center right')\n",
    "plt.xlim(0,20)\n",
    "plt.show()\n",
    "\n",
    "plt.plot(zz,q,'-',markersize=3,label='$q(z)$')\n",
    "plt.annotate('$z_{eq}$',xy=(z_eq, q_eq), xytext=(z_eq,q_eq-1 ))\n",
    "plt.xlabel('z')\n",
    "plt.ylabel('q(z)')\n",
    "plt.plot(z_eq,q_eq,'o',label='$z_{eq}$')\n",
    "plt.legend(loc='center right')\n",
    "plt.xlim(3000,3400)\n",
    "plt.show()"
   ]
  },
  {
   "cell_type": "code",
   "execution_count": 47,
   "metadata": {},
   "outputs": [],
   "source": [
    "\n"
   ]
  }
 ],
 "metadata": {
  "kernelspec": {
   "display_name": "Python 3",
   "language": "python",
   "name": "python3"
  },
  "language_info": {
   "codemirror_mode": {
    "name": "ipython",
    "version": 3
   },
   "file_extension": ".py",
   "mimetype": "text/x-python",
   "name": "python",
   "nbconvert_exporter": "python",
   "pygments_lexer": "ipython3",
   "version": "3.6.1"
  }
 },
 "nbformat": 4,
 "nbformat_minor": 2
}
