{
 "cells": [
  {
   "cell_type": "markdown",
   "metadata": {},
   "source": [
    "En este programa se va ha graficar los diferentes tipos universo."
   ]
  },
  {
   "cell_type": "code",
   "execution_count": 1,
   "metadata": {
    "collapsed": true
   },
   "outputs": [],
   "source": [
    "##Librerias\n",
    "import numpy as np\n",
    "import matplotlib.pylab as plt"
   ]
  },
  {
   "cell_type": "markdown",
   "metadata": {},
   "source": [
    "Para\\\\\n",
    "\n",
    "$\\bullet (a)$ Einstein-DeSitter (universo dominado por materia y plano(k=0)).\n",
    "$$\n",
    "a(t)\\propto t^{2/3}\n",
    "$$\n",
    "\n",
    "\n",
    "$\\bullet (b)$ (universo dominado por Radiacion).\n",
    "$$\n",
    "a(t)\\propto t^{1/2}\n",
    "$$\n",
    "\n",
    "\n",
    "$\\bullet (c)$ (universo dominado por $\\Lambda$ energía del vacio).\n",
    "$$\n",
    "a(t)\\propto e^{Ht}= \\exp\\left(\\frac{\\Lambda}{3}\\right)\n",
    "$$\n",
    "\n",
    "con $\\Lambda=2*10^{-35}[s^{-2}]$\n",
    "\n",
    "\n",
    "$\\bullet (d)$ (WMAP7).\n",
    "$$\n",
    "a(t)\\propto t^{2/2}\n",
    "$$\n",
    "\n",
    "\n",
    "\n"
   ]
  },
  {
   "cell_type": "code",
   "execution_count": 12,
   "metadata": {},
   "outputs": [
    {
     "data": {
      "image/png": "[encoded data removed]",
      "text/plain": [
       "<matplotlib.figure.Figure at 0x7fcf6240d908>"
      ]
     },
     "metadata": {},
     "output_type": "display_data"
    }
   ],
   "source": [
    "###PARA (A)\n",
    "\n",
    "a_materia=[]\n",
    "a_radiation=[]\n",
    "a_energy=[]\n",
    "Lambda=2e-35 ###s-2\n",
    "Lambda_0=71.0\n",
    "t=[]\n",
    "j=0.\n",
    "\n",
    "for i in range(10):\n",
    "    \n",
    "    t.append(j+i)\n",
    "    ##t.append(i++)\n",
    "    a_materia.append((i)**(2/3))\n",
    "    a_radiation.append((i)**(1/3))\n",
    "    a_energy.append(np.exp((np.sqrt(Lambda_0/3))*i))\n",
    "    \n",
    "\n",
    "#print(np.log10(a_energy))\n",
    "\n",
    "plt.plot(t,a_materia,'.')\n",
    "plt.plot(t,np.log10(a_energy),'*')\n",
    "plt.plot(t,a_radiation,'-')\n",
    "plt.show()\n"
   ]
  },
  {
   "cell_type": "code",
   "execution_count": null,
   "metadata": {
    "collapsed": true
   },
   "outputs": [],
   "source": []
  }
 ],
 "metadata": {
  "kernelspec": {
   "display_name": "Python 3",
   "language": "python",
   "name": "python3"
  },
  "language_info": {
   "codemirror_mode": {
    "name": "ipython",
    "version": 3
   },
   "file_extension": ".py",
   "mimetype": "text/x-python",
   "name": "python",
   "nbconvert_exporter": "python",
   "pygments_lexer": "ipython3",
   "version": "3.6.1"
  }
 },
 "nbformat": 4,
 "nbformat_minor": 2
}
