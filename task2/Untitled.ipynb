{
 "cells": [
  {
   "cell_type": "markdown",
   "metadata": {},
   "source": [
    "En este programa se va ha graficar los diferentes tipos universo."
   ]
  },
  {
   "cell_type": "code",
   "execution_count": 1,
   "metadata": {
    "collapsed": true
   },
   "outputs": [],
   "source": [
    "##Librerias\n",
    "import numpy as np\n",
    "import matplotlib.pylab as plt"
   ]
  },
  {
   "cell_type": "markdown",
   "metadata": {},
   "source": [
    "Para\\\\\n",
    "\n",
    "$\\bullet (a)$ Einstein-DeSitter (universo dominado por materia y plano(k=0)).\n",
    "$$\n",
    "a(t)\\propto t^{2/3}\n",
    "$$\n",
    "\n",
    "\n",
    "$\\bullet (b)$ (universo dominado por Radiacion).\n",
    "$$\n",
    "a(t)\\propto t^{1/2}\n",
    "$$\n",
    "\n",
    "\n",
    "$\\bullet (c)$ (universo dominado por $\\Lambda$ energía del vacio).\n",
    "$$\n",
    "a(t)\\propto e^{Ht}= \\exp\\left(\\frac{\\Lambda}{3}\\right)\n",
    "$$\n",
    "\n",
    "con $\\Lambda=2*10^{-35}[s^{-2}]$\n",
    "\n",
    "\n",
    "$\\bullet (d)$ (WMAP7).\n",
    "$$\n",
    "a(t)\\propto t^{2/2}\n",
    "$$\n",
    "\n",
    "\n",
    "\n"
   ]
  },
  {
   "cell_type": "code",
   "execution_count": 20,
   "metadata": {},
   "outputs": [
    {
     "data": {
      "image/png": "[encoded data removed]",
      "text/plain": [
       "<matplotlib.figure.Figure at 0x7f06cfdf1908>"
      ]
     },
     "metadata": {},
     "output_type": "display_data"
    }
   ],
   "source": [
    "###PARA (A)\n",
    "\n",
    "a_materia=[]\n",
    "a_radiation=[]\n",
    "a_energy=[]\n",
    "Lambda=2e-35 ###s-2\n",
    "t=[]\n",
    "j=0.\n",
    "\n",
    "for i in range(10):\n",
    "    \n",
    "    t.append(j+i)\n",
    "    ##t.append(i++)\n",
    "    a_materia.append((i)**(2/3))\n",
    "    a_radiation.append((i)**(1/3))\n",
    "    a_energy.append(np.exp((np.sqrt(Lambda/3))*i))\n",
    "    \n",
    "\n",
    "plt.plot(t,a_materia,'.')\n",
    "plt.plot(t,a_energy,'*')\n",
    "plt.plot(t,a_radiation,'-')\n",
    "plt.show()"
   ]
  },
  {
   "cell_type": "code",
   "execution_count": 24,
   "metadata": {},
   "outputs": [
    {
     "ename": "TypeError",
     "evalue": "unsupported operand type(s) for *: 'NoneType' and 'int'",
     "output_type": "error",
     "traceback": [
      "\u001b[0;31m---------------------------------------------------------------------------\u001b[0m",
      "\u001b[0;31mTypeError\u001b[0m                                 Traceback (most recent call last)",
      "\u001b[0;32m<ipython-input-24-5741a4b95eaf>\u001b[0m in \u001b[0;36m<module>\u001b[0;34m()\u001b[0m\n\u001b[1;32m      9\u001b[0m     \u001b[0;32mfor\u001b[0m \u001b[0ml\u001b[0m \u001b[0;32min\u001b[0m \u001b[0mrange\u001b[0m\u001b[0;34m(\u001b[0m\u001b[0;36m2\u001b[0m\u001b[0;34m)\u001b[0m\u001b[0;34m:\u001b[0m\u001b[0;34m\u001b[0m\u001b[0m\n\u001b[1;32m     10\u001b[0m         \u001b[0mt_2\u001b[0m\u001b[0;34m.\u001b[0m\u001b[0mappend\u001b[0m\u001b[0;34m(\u001b[0m\u001b[0mj\u001b[0m\u001b[0;34m+\u001b[0m\u001b[0mi\u001b[0m\u001b[0;34m)\u001b[0m\u001b[0;34m\u001b[0m\u001b[0m\n\u001b[0;32m---> 11\u001b[0;31m         \u001b[0ma_H_0\u001b[0m\u001b[0;34m.\u001b[0m\u001b[0mappend\u001b[0m\u001b[0;34m(\u001b[0m\u001b[0mnp\u001b[0m\u001b[0;34m.\u001b[0m\u001b[0msqrt\u001b[0m\u001b[0;34m(\u001b[0m\u001b[0;36m1\u001b[0m\u001b[0;34m-\u001b[0m\u001b[0mOmega\u001b[0m\u001b[0;34m[\u001b[0m\u001b[0ml\u001b[0m\u001b[0;34m]\u001b[0m\u001b[0;34m)\u001b[0m\u001b[0;34m)\u001b[0m\u001b[0;34m*\u001b[0m\u001b[0mi\u001b[0m\u001b[0;34m\u001b[0m\u001b[0m\n\u001b[0m\u001b[1;32m     12\u001b[0m \u001b[0;34m\u001b[0m\u001b[0m\n\u001b[1;32m     13\u001b[0m \u001b[0;34m\u001b[0m\u001b[0m\n",
      "\u001b[0;31mTypeError\u001b[0m: unsupported operand type(s) for *: 'NoneType' and 'int'"
     ]
    }
   ],
   "source": [
    "####Usando otra función\n",
    "### se va a a/H_0\n",
    "\n",
    "a_H_0_a=[]\n",
    "a_H_0_b=[]\n",
    "a_H_0_c=[]\n",
    "\n",
    "\n",
    "\n",
    "\n",
    "t_2=[]\n",
    "Omega=np.array([0,1,2])\n",
    "j=0.\n",
    "\n",
    "for i in range(10):\n",
    "        \n",
    "    t_2.append(j+i)\n",
    "    a_H_0_a.append(np.sqrt(1-0))*i ##\n",
    "    a_H_0_a.append(np.sqrt(0))*i ##\n",
    "    \n",
    "\n",
    "\n",
    "\n"
   ]
  },
  {
   "cell_type": "code",
   "execution_count": 22,
   "metadata": {},
   "outputs": [
    {
     "data": {
      "text/plain": [
       "0"
      ]
     },
     "execution_count": 22,
     "metadata": {},
     "output_type": "execute_result"
    }
   ],
   "source": []
  },
  {
   "cell_type": "code",
   "execution_count": null,
   "metadata": {
    "collapsed": true
   },
   "outputs": [],
   "source": []
  }
 ],
 "metadata": {
  "kernelspec": {
   "display_name": "Python 3",
   "language": "python",
   "name": "python3"
  },
  "language_info": {
   "codemirror_mode": {
    "name": "ipython",
    "version": 3
   },
   "file_extension": ".py",
   "mimetype": "text/x-python",
   "name": "python",
   "nbconvert_exporter": "python",
   "pygments_lexer": "ipython3",
   "version": "3.6.1"
  }
 },
 "nbformat": 4,
 "nbformat_minor": 2
}
