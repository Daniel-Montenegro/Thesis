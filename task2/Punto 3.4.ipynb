{
 "cells": [
  {
   "cell_type": "code",
   "execution_count": 1,
   "metadata": {
    "collapsed": true
   },
   "outputs": [],
   "source": [
    "#####==Librerias==#####\n",
    "import numpy as np\n",
    "import matplotlib.pyplot as plt\n"
   ]
  },
  {
   "cell_type": "markdown",
   "metadata": {},
   "source": [
    "En este programa se va ha calcular la densidad $\\rho$ en función del redshift $z$. Se van a considerar las diferentes densidades.\n",
    "\n",
    "$$\n",
    "\\rho_{i}=\\rho_{i}(z) \\ \\ \\ \\ \\ i=\\{m,r,\\Lambda \\}\n",
    "$$\n"
   ]
  },
  {
   "cell_type": "markdown",
   "metadata": {},
   "source": [
    "1) para \n",
    "$$\n",
    "\\rho_{m}=\\rho_{m}(z)=\\Omega_{m,0}\\rho_{crit}(1+z)^{3} =\\frac{3H_{o}}{8\\pi G}\\Omega_{m}(1+z)^{3}\n",
    "$$\n",
    "\n",
    "donde \n",
    "\n",
    "$\\Omega_{m}=0.32$\n",
    "\n",
    "$H_{o}=100h\\ km\\ s^{-1}\\ Mpc^{-1}$\n",
    "\n",
    "$G=$"
   ]
  },
  {
   "cell_type": "code",
   "execution_count": 23,
   "metadata": {},
   "outputs": [
    {
     "data": {
      "image/png": "[encoded data removed]",
      "text/plain": [
       "<matplotlib.figure.Figure at 0x7f08ba324978>"
      ]
     },
     "metadata": {},
     "output_type": "display_data"
    }
   ],
   "source": [
    "z=[]\n",
    "rho=[]\n",
    "rho_crit=2.8e11 #MasasSolares*Mpc^-3\n",
    "\n",
    "datos=np.loadtxt(\"datos.dat\")\n",
    "z=datos[:,] ##redshift\n",
    "\n",
    "#print(z)\n",
    "for i in range(len(z)):\n",
    "    rho.append(0.32*rho_crit*(1+z[i])**3)\n",
    "\n",
    "plt.plot(z,np.log10(rho),'.')\n",
    "plt.xlabel(\"z\")\n",
    "#plt.ylabel('$ \\rho $' )\n",
    "plt.show()\n",
    "#print(len(rho),len(z))"
   ]
  },
  {
   "cell_type": "markdown",
   "metadata": {},
   "source": [
    "2)\n",
    "$$\n",
    "\\rho_{r}=\\rho_{r}(z)=\\Omega_{r,0}\\rho_{crit}(1+z)^{4} =\\frac{3H_{o}}{8\\pi G}\\Omega_{m}(1+z)^{4}\n",
    "$$\n",
    "\n",
    "donde \n",
    "\n",
    "$\\Omega_{m}=9.4X10^{-5}$\n"
   ]
  },
  {
   "cell_type": "code",
   "execution_count": 24,
   "metadata": {},
   "outputs": [
    {
     "data": {
      "image/png": "[encoded data removed]",
      "text/plain": [
       "<matplotlib.figure.Figure at 0x7f08ba565860>"
      ]
     },
     "metadata": {},
     "output_type": "display_data"
    }
   ],
   "source": [
    "z=[]\n",
    "rho=[]\n",
    "rho_crit=2.8e11 #MasasSolares*Mpc^-3\n",
    "Omega_m=9.4e-5\n",
    "\n",
    "datos=np.loadtxt(\"datos.dat\")\n",
    "z=datos[:,] ##redshift\n",
    "\n",
    "#print(z)\n",
    "for i in range(len(z)):\n",
    "    rho.append(Omega_m*rho_crit*(1+z[i])**4)\n",
    "\n",
    "plt.plot(z,np.log10(rho),'.')\n",
    "plt.xlabel(\"z\")\n",
    "#plt.ylabel('$ \\rho $' )\n",
    "plt.show()\n",
    "#print(len(rho),len(z))"
   ]
  },
  {
   "cell_type": "markdown",
   "metadata": {},
   "source": [
    "1) para \n",
    "$$\n",
    "\\rho_{m}=\\rho_{k}(z)=\\Omega_{k,0}\\rho_{crit}(1+z)^{2}= \\rho_{crit}(1-\\Omega_{0})(1+z)^{2} =\\frac{3H_{o}}{8\\pi G}(1-\\Omega_{0})(1+z)^{2}\n",
    "$$\n",
    "\n",
    "donde \n",
    "\n",
    "$\\Omega_{k} \\leq 0.01$\n",
    "\n",
    "$H_{o}=100h\\ km\\ s^{-1}\\ Mpc^{-1}$\n",
    "\n",
    "$G=$"
   ]
  },
  {
   "cell_type": "code",
   "execution_count": 25,
   "metadata": {},
   "outputs": [
    {
     "data": {
      "image/png": "[encoded data removed]",
      "text/plain": [
       "<matplotlib.figure.Figure at 0x7f08b9f54ac8>"
      ]
     },
     "metadata": {},
     "output_type": "display_data"
    }
   ],
   "source": [
    "z=[]\n",
    "rho=[]\n",
    "rho_crit=2.8e11 #MasasSolares*Mpc^-3\n",
    "Omega_k=0.01\n",
    "\n",
    "datos=np.loadtxt(\"datos.dat\")\n",
    "z=datos[:,] ##redshift\n",
    "\n",
    "#print(z)\n",
    "for i in range(len(z)):\n",
    "    rho.append(Omega_k*rho_crit*(1+z[i])**4)\n",
    "\n",
    "plt.plot(z,np.log10(rho),'.')\n",
    "plt.xlabel(\"z\")\n",
    "#plt.ylabel('$ \\rho $' )\n",
    "plt.show()\n",
    "#print(len(rho),len(z))"
   ]
  },
  {
   "cell_type": "code",
   "execution_count": null,
   "metadata": {
    "collapsed": true
   },
   "outputs": [],
   "source": []
  }
 ],
 "metadata": {
  "kernelspec": {
   "display_name": "Python 3",
   "language": "python",
   "name": "python3"
  },
  "language_info": {
   "codemirror_mode": {
    "name": "ipython",
    "version": 3
   },
   "file_extension": ".py",
   "mimetype": "text/x-python",
   "name": "python",
   "nbconvert_exporter": "python",
   "pygments_lexer": "ipython3",
   "version": "3.6.1"
  }
 },
 "nbformat": 4,
 "nbformat_minor": 2
}
