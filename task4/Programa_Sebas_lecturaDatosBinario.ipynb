{
 "cells": [
  {
   "cell_type": "markdown",
   "metadata": {},
   "source": [
    "## Plot Eigenvalores\n",
    "\n",
    "This code read the Eigenvectors in binary and plot the proyection of the eigenvector in the plane YX"
   ]
  },
  {
   "cell_type": "code",
   "execution_count": 1,
   "metadata": {
    "collapsed": true
   },
   "outputs": [],
   "source": [
    "##________________________________\n",
    "##         Librarys \n",
    "##________________________________\n",
    "\n",
    "from struct import *\n",
    "import numpy as np\n",
    "import sys\n",
    "import os\n",
    "\n"
   ]
  },
  {
   "cell_type": "code",
   "execution_count": 4,
   "metadata": {},
   "outputs": [],
   "source": [
    "##________________________________##\n",
    "##         Funtions               ## \n",
    "##________________________________##\n",
    "\n",
    "\n",
    "def read_CIC_vector(filename):\n",
    "    print(\"Reading eigenvector file\")\n",
    "    f = open(filename, \"rb\")\n",
    "    dumb = f.read(38)\n",
    "\n",
    "    dumb = f.read(4)\n",
    "    n_x = f.read(4)\n",
    "    n_y = f.read(4)\n",
    "    n_z = f.read(4)\n",
    "    nodes = f.read(4)\n",
    "    x0 = f.read(4)\n",
    "    y0 = f.read(4)\n",
    "    z0 = f.read(4)\n",
    "    dx = f.read(4)\n",
    "    dy = f.read(4)\n",
    "    dz = f.read(4)\n",
    "    dumb = f.read(4)\n",
    "\n",
    "    n_x = (unpack('i', n_x))[0]\n",
    "    n_y = (unpack('i', n_y))[0]\n",
    "    n_z = (unpack('i', n_z))[0]\n",
    "    nodes = (unpack('i', nodes))[0]\n",
    "    dx = (unpack('f', dx))[0]\n",
    "    dy = (unpack('f', dy))[0]\n",
    "    dz = (unpack('f', dz))[0]\n",
    "    x0 = (unpack('f', x0))[0]\n",
    "    y0 = (unpack('f', y0))[0]\n",
    "    z0 = (unpack('f', z0))[0]\n",
    "    print(n_x, n_y, n_z, nodes, dx, dy, dz)\n",
    "\n",
    "    total_nodes = 3 * n_x * n_y *n_z\n",
    "    dumb = f.read(4)\n",
    "    array_data = f.read(total_nodes*4)\n",
    "    dumb = f.read(4)\n",
    "    format_s = str(total_nodes)+'f'\n",
    "    array_data = unpack(format_s, array_data)\n",
    "    f.close()\n",
    "    array_data  = np.array(array_data)\n",
    "    new_array_data = np.reshape(array_data, (3,n_x,n_y,n_z), order='F')\n",
    "    vec = new_array_data[:,0,0,0]\n",
    "    print (\"vec\", vec, sum(vec*vec))\n",
    "\n",
    "    return new_array_data, n_x, dx\n",
    "\n",
    "\n",
    "def enviroment_lambda( r ):\n",
    "    '''\n",
    "    FUNCTION: Return the local enviroment in a given r coordinate\n",
    "    ARGUMENTS: r - Local coordinate\n",
    "\t       n - Number of lambda\n",
    "    RETURN:   Enviroment\n",
    "\t      0 - Void\n",
    "\t      1 - Filament\n",
    "\t      2 - Knot\n",
    "    '''\n",
    "    i = np.int(r[0]/Box_lenght*n_x)\n",
    "    j = np.int(r[1]/Box_lenght*n_x)\n",
    "    k = np.int(r[2]/Box_lenght*n_x)\n",
    "    \n",
    "    eigen = np.array([\\\n",
    "    lambda_val[0][0][i,j,k],\\\n",
    "    lambda_val[0][1][i,j,k],\\\n",
    "    lambda_val[0][2][i,j,k],\\\n",
    "    lambda_val[1][0][i,j,k],\\\n",
    "    lambda_val[1][1][i,j,k],\\\n",
    "    lambda_val[1][2][i,j,k],\\\n",
    "    lambda_val[2][0][i,j,k],\\\n",
    "    lambda_val[2][1][i,j,k],\\\n",
    "    lambda_val[2][2][i,j,k]])\n",
    "    \n",
    "    return eigen.flatten()"
   ]
  },
  {
   "cell_type": "code",
   "execution_count": 5,
   "metadata": {
    "collapsed": true
   },
   "outputs": [],
   "source": [
    "##________________________________##\n",
    "##         Parameters             ## \n",
    "##________________________________##\n",
    "\n",
    "\n",
    "\n",
    "#Global Fold\n",
    "#foldglobal = '../Data/'\n",
    "foldglobal = './'\n",
    "#Simulation\n",
    "folds = [ \"CLUES/16953/\", \"CLUES/2710/\", \"CLUES/10909/\", \"Bolshoi/\" ]\n",
    "names = [ \"CLUES_16953\", \"CLUES_2710\", \"CLUES_10909\", \"BOLSHOI\" ]\n",
    "#Environment classification scheme\n",
    "scheme = 'Vweb/'\n",
    "schemename = 'Vweb'\n",
    "#Lambda_Filename\n",
    "#eigen_file = [ \"snap_190.eigenvec_\", \"snap_191.eigenvec_\", \"snap_190.eigenvec_\", \"PMcrsFULL.0416.DAT.eigenvec_\" ]\n",
    "eigen_file = [ \"snap_190.s1.00.eigenvec_\", \"snap_191.s1.00.eigenvec_\", \"snap_190.s1.00.eigenvec_\", \"PMcrsFULL.0416.DAT.s1.00.eigenvec_\" ]\n",
    "#Resolutions of each simulation\n",
    "res = [ 64, 64, 64, 256 ]\n",
    "#Box lenghts of each simulation\n",
    "Box_L = [ 64, 64, 64, 256 ]\n",
    "\n"
   ]
  },
  {
   "cell_type": "code",
   "execution_count": 9,
   "metadata": {},
   "outputs": [
    {
     "name": "stdout",
     "output_type": "stream",
     "text": [
      "\n",
      "Currently in  CLUES/16953/\n",
      "Reading eigenvector file\n"
     ]
    },
    {
     "ename": "FileNotFoundError",
     "evalue": "[Errno 2] No such file or directory: './CLUES/16953/Vweb/64/snap_190.s1.00.eigenvec_1'",
     "output_type": "error",
     "traceback": [
      "\u001b[0;31m---------------------------------------------------------------------------\u001b[0m",
      "\u001b[0;31mFileNotFoundError\u001b[0m                         Traceback (most recent call last)",
      "\u001b[0;32m<ipython-input-9-a62c114dcbad>\u001b[0m in \u001b[0;36m<module>\u001b[0;34m()\u001b[0m\n\u001b[1;32m     12\u001b[0m     \u001b[0mlambda_val\u001b[0m \u001b[0;34m=\u001b[0m \u001b[0;34m[\u001b[0m\u001b[0;34m]\u001b[0m\u001b[0;34m\u001b[0m\u001b[0m\n\u001b[1;32m     13\u001b[0m     \u001b[0;32mfor\u001b[0m \u001b[0mi\u001b[0m \u001b[0;32min\u001b[0m \u001b[0mrange\u001b[0m\u001b[0;34m(\u001b[0m\u001b[0;36m0\u001b[0m\u001b[0;34m,\u001b[0m\u001b[0;36m3\u001b[0m\u001b[0;34m)\u001b[0m\u001b[0;34m:\u001b[0m\u001b[0;34m\u001b[0m\u001b[0m\n\u001b[0;32m---> 14\u001b[0;31m         \u001b[0mlv\u001b[0m\u001b[0;34m,\u001b[0m\u001b[0mn_x\u001b[0m\u001b[0;34m,\u001b[0m\u001b[0mdx\u001b[0m \u001b[0;34m=\u001b[0m\u001b[0mread_CIC_vector\u001b[0m\u001b[0;34m(\u001b[0m\u001b[0;34m\"%s%s%s%d/%s%d\"\u001b[0m\u001b[0;34m%\u001b[0m\u001b[0;34m(\u001b[0m\u001b[0mfoldglobal\u001b[0m\u001b[0;34m,\u001b[0m \u001b[0mfold\u001b[0m\u001b[0;34m,\u001b[0m \u001b[0mscheme\u001b[0m\u001b[0;34m,\u001b[0m \u001b[0mres\u001b[0m\u001b[0;34m[\u001b[0m\u001b[0mi_fold\u001b[0m\u001b[0;34m]\u001b[0m\u001b[0;34m,\u001b[0m \u001b[0meigen_file\u001b[0m\u001b[0;34m[\u001b[0m\u001b[0mi_fold\u001b[0m\u001b[0;34m]\u001b[0m\u001b[0;34m,\u001b[0m \u001b[0mi\u001b[0m\u001b[0;34m+\u001b[0m\u001b[0;36m1\u001b[0m\u001b[0;34m)\u001b[0m \u001b[0;34m)\u001b[0m\u001b[0;34m\u001b[0m\u001b[0m\n\u001b[0m\u001b[1;32m     15\u001b[0m         \u001b[0mlambda_val\u001b[0m\u001b[0;34m.\u001b[0m\u001b[0mappend\u001b[0m\u001b[0;34m(\u001b[0m \u001b[0mlv\u001b[0m \u001b[0;34m)\u001b[0m\u001b[0;34m\u001b[0m\u001b[0m\n\u001b[1;32m     16\u001b[0m \u001b[0;34m\u001b[0m\u001b[0m\n",
      "\u001b[0;32m<ipython-input-4-c8bd3b8c112d>\u001b[0m in \u001b[0;36mread_CIC_vector\u001b[0;34m(filename)\u001b[0m\n\u001b[1;32m      6\u001b[0m \u001b[0;32mdef\u001b[0m \u001b[0mread_CIC_vector\u001b[0m\u001b[0;34m(\u001b[0m\u001b[0mfilename\u001b[0m\u001b[0;34m)\u001b[0m\u001b[0;34m:\u001b[0m\u001b[0;34m\u001b[0m\u001b[0m\n\u001b[1;32m      7\u001b[0m     \u001b[0mprint\u001b[0m\u001b[0;34m(\u001b[0m\u001b[0;34m\"Reading eigenvector file\"\u001b[0m\u001b[0;34m)\u001b[0m\u001b[0;34m\u001b[0m\u001b[0m\n\u001b[0;32m----> 8\u001b[0;31m     \u001b[0mf\u001b[0m \u001b[0;34m=\u001b[0m \u001b[0mopen\u001b[0m\u001b[0;34m(\u001b[0m\u001b[0mfilename\u001b[0m\u001b[0;34m,\u001b[0m \u001b[0;34m\"rb\"\u001b[0m\u001b[0;34m)\u001b[0m\u001b[0;34m\u001b[0m\u001b[0m\n\u001b[0m\u001b[1;32m      9\u001b[0m     \u001b[0mdumb\u001b[0m \u001b[0;34m=\u001b[0m \u001b[0mf\u001b[0m\u001b[0;34m.\u001b[0m\u001b[0mread\u001b[0m\u001b[0;34m(\u001b[0m\u001b[0;36m38\u001b[0m\u001b[0;34m)\u001b[0m\u001b[0;34m\u001b[0m\u001b[0m\n\u001b[1;32m     10\u001b[0m \u001b[0;34m\u001b[0m\u001b[0m\n",
      "\u001b[0;31mFileNotFoundError\u001b[0m: [Errno 2] No such file or directory: './CLUES/16953/Vweb/64/snap_190.s1.00.eigenvec_1'"
     ]
    }
   ],
   "source": [
    "##________________________________##\n",
    "##     Calculating Enviroment     ## \n",
    "##________________________________##\n",
    "\n",
    "\n",
    "\n",
    "i_fold = 0\n",
    "for fold in folds:\n",
    "    print('\\nCurrently in ', fold)\n",
    "    \n",
    "    #Loading Lambda Files for each simulation\n",
    "    lambda_val = []\n",
    "    for i in range(0,3):\n",
    "        lv,n_x,dx =read_CIC_vector(\"%s%s%s%d/%s%d\"%(foldglobal, fold, scheme, res[i_fold], eigen_file[i_fold], i+1))\n",
    "        lambda_val.append( lv )\n",
    "\n",
    "    #Current Box lenght\n",
    "    Box_lenght = Box_L[i_fold]\n",
    "\n",
    "    #Loading Halos Data\n",
    "    halos = np.transpose( np.loadtxt( '%s%sHalos_catalog.dat'%(foldglobal,fold) ) )\n",
    "    Nhalos = len(halos[0])\t\t#Number of halos\n",
    "\n",
    "    #Environment of each halo\n",
    "    halos_envinroment = np.zeros( (Nhalos, 9) )\n",
    "\n",
    "    for i in range(Nhalos):\n",
    "        halos_envinroment[i] = enviroment_lambda( halos[1:4,i] )\n",
    "\n",
    "    #Saving File\n",
    "    np.savetxt(\"%s/Halos_Eigenvector_%s%s%d_s1.dat\"%(foldglobal, names[i_fold], schemename, res[i_fold]), halos_envinroment)\n",
    "    \n",
    "    i_fold += 1"
   ]
  },
  {
   "cell_type": "code",
   "execution_count": null,
   "metadata": {
    "collapsed": true
   },
   "outputs": [],
   "source": []
  }
 ],
 "metadata": {
  "kernelspec": {
   "display_name": "Python 3",
   "language": "python",
   "name": "python3"
  },
  "language_info": {
   "codemirror_mode": {
    "name": "ipython",
    "version": 3
   },
   "file_extension": ".py",
   "mimetype": "text/x-python",
   "name": "python",
   "nbconvert_exporter": "python",
   "pygments_lexer": "ipython3",
   "version": "3.6.1"
  }
 },
 "nbformat": 4,
 "nbformat_minor": 2
}
